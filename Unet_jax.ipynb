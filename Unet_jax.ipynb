{
  "nbformat": 4,
  "nbformat_minor": 0,
  "metadata": {
    "colab": {
      "provenance": [],
      "authorship_tag": "ABX9TyMJd3dhiyld0gaH+K2JNlgE",
      "include_colab_link": true
    },
    "kernelspec": {
      "name": "python3",
      "display_name": "Python 3"
    },
    "language_info": {
      "name": "python"
    }
  },
  "cells": [
    {
      "cell_type": "markdown",
      "metadata": {
        "id": "view-in-github",
        "colab_type": "text"
      },
      "source": [
        "<a href=\"https://colab.research.google.com/github/talkin24/jaxflax_lab/blob/main/Unet_jax.ipynb\" target=\"_parent\"><img src=\"https://colab.research.google.com/assets/colab-badge.svg\" alt=\"Open In Colab\"/></a>"
      ]
    },
    {
      "cell_type": "code",
      "execution_count": 1,
      "metadata": {
        "id": "3-a6P7-SDblc"
      },
      "outputs": [],
      "source": [
        "import jax\n",
        "from jax import lax, random, numpy as jnp\n",
        "\n",
        "import flax\n",
        "from flax.core import freeze, unfreeze\n",
        "from flax import linen as nn\n",
        "from flax.training import train_state\n",
        "\n",
        "import optax\n",
        "\n",
        "from torchvision.datasets import MNIST\n",
        "from torch.utils.data import DataLoader\n",
        "\n",
        "import functools\n",
        "from typing import Any, Callable, Sequence, Optional\n",
        "\n",
        "import numpy as np\n",
        "import matplotlib.pyplot as plt\n"
      ]
    },
    {
      "cell_type": "code",
      "source": [
        "class UnetConvBlock(nn.Module):\n",
        "  out_dim: int\n",
        "\n",
        "  # Conv Parameters\n",
        "  kernel_size: tuple[int, int] = (3, 3)\n",
        "  strides: int = 1\n",
        "  padding: int = 0\n",
        "\n",
        "  # BatchNorm Parameters\n",
        "  use_running_average: bool = False\n",
        "  momentum: float = 0.9\n",
        "  epsilon: float = 1e-5\n",
        "  dtype: jnp.dtype = jnp.float32\n",
        "\n",
        "  @nn.compact\n",
        "  def __call__(self, x):\n",
        "    x = nn.Conv(features=self.out_dim, kernel_size=self.kernel_size, strides=self.strides, padding=self.padding)(x)\n",
        "    x = nn.BatchNorm(use_running_average=self.use_running_average, momentum=self.momentum, epsilon = self.epsilon, dtype = self.dtype)(x) \n",
        "    x = nn.relu(x)\n",
        "    x = nn.Conv(features=self.out_dim, kernel_size=self.kernel_size, strides=self.strides, padding=self.padding)(x)\n",
        "    x = nn.BatchNorm(use_running_average=self.use_running_average, momentum=self.momentum, epsilon = self.epsilon, dtype = self.dtype)(x) \n",
        "    x = nn.relu(x)\n",
        "    return x\n"
      ],
      "metadata": {
        "id": "Xe-Z3FyTKfHC"
      },
      "execution_count": 12,
      "outputs": []
    },
    {
      "cell_type": "code",
      "source": [
        "class DoubleConvBR(nn.Module):\n",
        "  out_dim: int\n",
        "\n",
        "  # Conv Parameters\n",
        "  kernel_size: tuple[int, int] = (3, 3)\n",
        "  strides: int = 1\n",
        "  padding: int = 0\n",
        "  \n",
        "  # BatchNorm Parameters\n",
        "  use_running_average: bool = False\n",
        "  momentum: float = 0.9\n",
        "  epsilon: float = 1e-5\n",
        "  dtype: jnp.dtype = jnp.float32\n",
        "\n",
        "  @nn.compact\n",
        "  def __call__(self, x):\n",
        "    x = nn.Conv(features=self.out_dim, kernel_size=self.kernel_size, strides=self.strides, padding=self.padding)(x)\n",
        "    x = nn.BatchNorm(use_running_average=self.use_running_average, momentum=self.momentum, epsilon = self.epsilon, dtype = self.dtype)(x) \n",
        "    x = nn.relu(x)\n",
        "    x = nn.Conv(features=self.out_dim, kernel_size=self.kernel_size, strides=self.strides, padding=self.padding)(x)\n",
        "    x = nn.BatchNorm(use_running_average=self.use_running_average, momentum=self.momentum, epsilon = self.epsilon, dtype = self.dtype)(x) \n",
        "    x = nn.relu(x)\n",
        "    return x\n",
        "\n",
        "\n",
        "class Down(nn.Module):\n",
        "  out_dim: int\n",
        "  \n",
        "  # max_pool Parameters\n",
        "  window_shape: tuple[int, int] = (2, 2)\n",
        "\n",
        "  @nn.compact\n",
        "  def __call__(self, x):\n",
        "    x = nn.max_pool(x, window_shape=self.window_shape)\n",
        "    x = DoubleConvBR(self.out_dim)(x)\n",
        "    return x\n",
        "\n",
        "\n",
        "class Up(nn.Module):\n",
        "  out_dim: int\n",
        "  \n",
        "  # ConvTranspose Parameters\n",
        "  kernel_size: tuple[int, int] = (2, 2)\n",
        "  strides: tuple[int, int] = (2, 2)\n",
        "  padding: int = 0\n",
        " \n",
        "  @nn.compact\n",
        "  def __call__(self, x):\n",
        "    x = nn.ConvTranspose(features=self.out_dim * 2, kernel_size=self.kernel_size, strides=self.strides, padding=self.padding)(x)\n",
        "    x = DoubleConvBR(self.out_dim)(x)\n",
        "    return x\n",
        "\n",
        "\n",
        "class Unet(nn.Module):\n",
        "  feature_scale: int = 4\n",
        "  n_classes: int = 21\n",
        "  window_shape: tuple[int, int] = (2, 2)\n",
        "\n",
        "  @nn.compact\n",
        "  def __call__(self, x):\n",
        "\n",
        "  # Contracting path\n",
        "    x = DoubleConvBR(64)(x)\n",
        "    x = Down(128)(x)\n",
        "    x = Down(256)(x)\n",
        "    x = Down(512)(x)\n",
        "    x = Down(1024)(x)\n",
        "\n",
        "  # Expansive path\n",
        "    x = Up(512)(x)\n",
        "    x = Up(256)(x)\n",
        "    x = Up(128)(x)\n",
        "    x = Up(64)(x)\n",
        "    \n",
        "    x = nn.Dense(2)(x)\n"
      ],
      "metadata": {
        "id": "4O2auIoeDhAy"
      },
      "execution_count": 26,
      "outputs": []
    },
    {
      "cell_type": "code",
      "source": [
        "unet = Unet()\n",
        "print(unet.tabulate(jax.random.PRNGKey(0), jnp.ones((3, 572, 572))))"
      ],
      "metadata": {
        "colab": {
          "base_uri": "https://localhost:8080/"
        },
        "id": "_962GH2YTXYa",
        "outputId": "2156ddb0-e592-4bbe-c34a-1f71dd339452"
      },
      "execution_count": 27,
      "outputs": [
        {
          "output_type": "stream",
          "name": "stdout",
          "text": [
            "\n",
            "\u001b[3m                                  Unet Summary                                  \u001b[0m\n",
            "┏━━━━━━━━━━━━┳━━━━━━━━━━━━┳━━━━━━━━━━━━┳━━━━━━━━━━━━┳━━━━━━━━━━━━━┳━━━━━━━━━━━━┓\n",
            "┃\u001b[1m \u001b[0m\u001b[1mpath      \u001b[0m\u001b[1m \u001b[0m┃\u001b[1m \u001b[0m\u001b[1mmodule    \u001b[0m\u001b[1m \u001b[0m┃\u001b[1m \u001b[0m\u001b[1minputs    \u001b[0m\u001b[1m \u001b[0m┃\u001b[1m \u001b[0m\u001b[1moutputs   \u001b[0m\u001b[1m \u001b[0m┃\u001b[1m \u001b[0m\u001b[1mbatch_stats\u001b[0m\u001b[1m \u001b[0m┃\u001b[1m \u001b[0m\u001b[1mparams    \u001b[0m\u001b[1m \u001b[0m┃\n",
            "┡━━━━━━━━━━━━╇━━━━━━━━━━━━╇━━━━━━━━━━━━╇━━━━━━━━━━━━╇━━━━━━━━━━━━━╇━━━━━━━━━━━━┩\n",
            "│            │ Unet       │ \u001b[2mfloat32\u001b[0m[3… │ None       │             │            │\n",
            "├────────────┼────────────┼────────────┼────────────┼─────────────┼────────────┤\n",
            "│ DoubleCon… │ DoubleCon… │ \u001b[2mfloat32\u001b[0m[3… │ \u001b[2mfloat32\u001b[0m[0… │             │            │\n",
            "├────────────┼────────────┼────────────┼────────────┼─────────────┼────────────┤\n",
            "│ DoubleCon… │ Conv       │ \u001b[2mfloat32\u001b[0m[3… │ \u001b[2mfloat32\u001b[0m[1… │             │ bias:      │\n",
            "│            │            │            │            │             │ \u001b[2mfloat32\u001b[0m[6… │\n",
            "│            │            │            │            │             │ kernel:    │\n",
            "│            │            │            │            │             │ \u001b[2mfloat32\u001b[0m[3… │\n",
            "│            │            │            │            │             │            │\n",
            "│            │            │            │            │             │ \u001b[1m329,536 \u001b[0m   │\n",
            "│            │            │            │            │             │ \u001b[1;2m(1.3 MB)\u001b[0m   │\n",
            "├────────────┼────────────┼────────────┼────────────┼─────────────┼────────────┤\n",
            "│ DoubleCon… │ BatchNorm  │ \u001b[2mfloat32\u001b[0m[1… │ \u001b[2mfloat32\u001b[0m[1… │ mean:       │ bias:      │\n",
            "│            │            │            │            │ \u001b[2mfloat32\u001b[0m[64] │ \u001b[2mfloat32\u001b[0m[6… │\n",
            "│            │            │            │            │ var:        │ scale:     │\n",
            "│            │            │            │            │ \u001b[2mfloat32\u001b[0m[64] │ \u001b[2mfloat32\u001b[0m[6… │\n",
            "│            │            │            │            │             │            │\n",
            "│            │            │            │            │ \u001b[1m128 \u001b[0m\u001b[1;2m(512 B)\u001b[0m │ \u001b[1m128 \u001b[0m\u001b[1;2m(512 \u001b[0m  │\n",
            "│            │            │            │            │             │ \u001b[1;2mB)\u001b[0m         │\n",
            "├────────────┼────────────┼────────────┼────────────┼─────────────┼────────────┤\n",
            "│ DoubleCon… │ Conv       │ \u001b[2mfloat32\u001b[0m[1… │ \u001b[2mfloat32\u001b[0m[0… │             │ bias:      │\n",
            "│            │            │            │            │             │ \u001b[2mfloat32\u001b[0m[6… │\n",
            "│            │            │            │            │             │ kernel:    │\n",
            "│            │            │            │            │             │ \u001b[2mfloat32\u001b[0m[3… │\n",
            "│            │            │            │            │             │            │\n",
            "│            │            │            │            │             │ \u001b[1m36,928 \u001b[0m    │\n",
            "│            │            │            │            │             │ \u001b[1;2m(147.7 KB)\u001b[0m │\n",
            "├────────────┼────────────┼────────────┼────────────┼─────────────┼────────────┤\n",
            "│ DoubleCon… │ BatchNorm  │ \u001b[2mfloat32\u001b[0m[0… │ \u001b[2mfloat32\u001b[0m[0… │ mean:       │ bias:      │\n",
            "│            │            │            │            │ \u001b[2mfloat32\u001b[0m[64] │ \u001b[2mfloat32\u001b[0m[6… │\n",
            "│            │            │            │            │ var:        │ scale:     │\n",
            "│            │            │            │            │ \u001b[2mfloat32\u001b[0m[64] │ \u001b[2mfloat32\u001b[0m[6… │\n",
            "│            │            │            │            │             │            │\n",
            "│            │            │            │            │ \u001b[1m128 \u001b[0m\u001b[1;2m(512 B)\u001b[0m │ \u001b[1m128 \u001b[0m\u001b[1;2m(512 \u001b[0m  │\n",
            "│            │            │            │            │             │ \u001b[1;2mB)\u001b[0m         │\n",
            "├────────────┼────────────┼────────────┼────────────┼─────────────┼────────────┤\n",
            "│ Down_0     │ Down       │ \u001b[2mfloat32\u001b[0m[0… │ \u001b[2mfloat32\u001b[0m[0… │             │            │\n",
            "├────────────┼────────────┼────────────┼────────────┼─────────────┼────────────┤\n",
            "│ Down_0/Do… │ DoubleCon… │ \u001b[2mfloat32\u001b[0m[0… │ \u001b[2mfloat32\u001b[0m[0… │             │            │\n",
            "├────────────┼────────────┼────────────┼────────────┼─────────────┼────────────┤\n",
            "│ Down_0/Do… │ Conv       │ \u001b[2mfloat32\u001b[0m[0… │ \u001b[2mfloat32\u001b[0m[0… │             │ bias:      │\n",
            "│            │            │            │            │             │ \u001b[2mfloat32\u001b[0m[1… │\n",
            "│            │            │            │            │             │ kernel:    │\n",
            "│            │            │            │            │             │ \u001b[2mfloat32\u001b[0m[3… │\n",
            "│            │            │            │            │             │            │\n",
            "│            │            │            │            │             │ \u001b[1m73,856 \u001b[0m    │\n",
            "│            │            │            │            │             │ \u001b[1;2m(295.4 KB)\u001b[0m │\n",
            "├────────────┼────────────┼────────────┼────────────┼─────────────┼────────────┤\n",
            "│ Down_0/Do… │ BatchNorm  │ \u001b[2mfloat32\u001b[0m[0… │ \u001b[2mfloat32\u001b[0m[0… │ mean:       │ bias:      │\n",
            "│            │            │            │            │ \u001b[2mfloat32\u001b[0m[12… │ \u001b[2mfloat32\u001b[0m[1… │\n",
            "│            │            │            │            │ var:        │ scale:     │\n",
            "│            │            │            │            │ \u001b[2mfloat32\u001b[0m[12… │ \u001b[2mfloat32\u001b[0m[1… │\n",
            "│            │            │            │            │             │            │\n",
            "│            │            │            │            │ \u001b[1m256 \u001b[0m\u001b[1;2m(1.0 \u001b[0m   │ \u001b[1m256 \u001b[0m\u001b[1;2m(1.0 \u001b[0m  │\n",
            "│            │            │            │            │ \u001b[1;2mKB)\u001b[0m         │ \u001b[1;2mKB)\u001b[0m        │\n",
            "├────────────┼────────────┼────────────┼────────────┼─────────────┼────────────┤\n",
            "│ Down_0/Do… │ Conv       │ \u001b[2mfloat32\u001b[0m[0… │ \u001b[2mfloat32\u001b[0m[0… │             │ bias:      │\n",
            "│            │            │            │            │             │ \u001b[2mfloat32\u001b[0m[1… │\n",
            "│            │            │            │            │             │ kernel:    │\n",
            "│            │            │            │            │             │ \u001b[2mfloat32\u001b[0m[3… │\n",
            "│            │            │            │            │             │            │\n",
            "│            │            │            │            │             │ \u001b[1m147,584 \u001b[0m   │\n",
            "│            │            │            │            │             │ \u001b[1;2m(590.3 KB)\u001b[0m │\n",
            "├────────────┼────────────┼────────────┼────────────┼─────────────┼────────────┤\n",
            "│ Down_0/Do… │ BatchNorm  │ \u001b[2mfloat32\u001b[0m[0… │ \u001b[2mfloat32\u001b[0m[0… │ mean:       │ bias:      │\n",
            "│            │            │            │            │ \u001b[2mfloat32\u001b[0m[12… │ \u001b[2mfloat32\u001b[0m[1… │\n",
            "│            │            │            │            │ var:        │ scale:     │\n",
            "│            │            │            │            │ \u001b[2mfloat32\u001b[0m[12… │ \u001b[2mfloat32\u001b[0m[1… │\n",
            "│            │            │            │            │             │            │\n",
            "│            │            │            │            │ \u001b[1m256 \u001b[0m\u001b[1;2m(1.0 \u001b[0m   │ \u001b[1m256 \u001b[0m\u001b[1;2m(1.0 \u001b[0m  │\n",
            "│            │            │            │            │ \u001b[1;2mKB)\u001b[0m         │ \u001b[1;2mKB)\u001b[0m        │\n",
            "├────────────┼────────────┼────────────┼────────────┼─────────────┼────────────┤\n",
            "│ Down_1     │ Down       │ \u001b[2mfloat32\u001b[0m[0… │ \u001b[2mfloat32\u001b[0m[0… │             │            │\n",
            "├────────────┼────────────┼────────────┼────────────┼─────────────┼────────────┤\n",
            "│ Down_1/Do… │ DoubleCon… │ \u001b[2mfloat32\u001b[0m[0… │ \u001b[2mfloat32\u001b[0m[0… │             │            │\n",
            "├────────────┼────────────┼────────────┼────────────┼─────────────┼────────────┤\n",
            "│ Down_1/Do… │ Conv       │ \u001b[2mfloat32\u001b[0m[0… │ \u001b[2mfloat32\u001b[0m[0… │             │ bias:      │\n",
            "│            │            │            │            │             │ \u001b[2mfloat32\u001b[0m[2… │\n",
            "│            │            │            │            │             │ kernel:    │\n",
            "│            │            │            │            │             │ \u001b[2mfloat32\u001b[0m[3… │\n",
            "│            │            │            │            │             │            │\n",
            "│            │            │            │            │             │ \u001b[1m295,168 \u001b[0m   │\n",
            "│            │            │            │            │             │ \u001b[1;2m(1.2 MB)\u001b[0m   │\n",
            "├────────────┼────────────┼────────────┼────────────┼─────────────┼────────────┤\n",
            "│ Down_1/Do… │ BatchNorm  │ \u001b[2mfloat32\u001b[0m[0… │ \u001b[2mfloat32\u001b[0m[0… │ mean:       │ bias:      │\n",
            "│            │            │            │            │ \u001b[2mfloat32\u001b[0m[25… │ \u001b[2mfloat32\u001b[0m[2… │\n",
            "│            │            │            │            │ var:        │ scale:     │\n",
            "│            │            │            │            │ \u001b[2mfloat32\u001b[0m[25… │ \u001b[2mfloat32\u001b[0m[2… │\n",
            "│            │            │            │            │             │            │\n",
            "│            │            │            │            │ \u001b[1m512 \u001b[0m\u001b[1;2m(2.0 \u001b[0m   │ \u001b[1m512 \u001b[0m\u001b[1;2m(2.0 \u001b[0m  │\n",
            "│            │            │            │            │ \u001b[1;2mKB)\u001b[0m         │ \u001b[1;2mKB)\u001b[0m        │\n",
            "├────────────┼────────────┼────────────┼────────────┼─────────────┼────────────┤\n",
            "│ Down_1/Do… │ Conv       │ \u001b[2mfloat32\u001b[0m[0… │ \u001b[2mfloat32\u001b[0m[0… │             │ bias:      │\n",
            "│            │            │            │            │             │ \u001b[2mfloat32\u001b[0m[2… │\n",
            "│            │            │            │            │             │ kernel:    │\n",
            "│            │            │            │            │             │ \u001b[2mfloat32\u001b[0m[3… │\n",
            "│            │            │            │            │             │            │\n",
            "│            │            │            │            │             │ \u001b[1m590,080 \u001b[0m   │\n",
            "│            │            │            │            │             │ \u001b[1;2m(2.4 MB)\u001b[0m   │\n",
            "├────────────┼────────────┼────────────┼────────────┼─────────────┼────────────┤\n",
            "│ Down_1/Do… │ BatchNorm  │ \u001b[2mfloat32\u001b[0m[0… │ \u001b[2mfloat32\u001b[0m[0… │ mean:       │ bias:      │\n",
            "│            │            │            │            │ \u001b[2mfloat32\u001b[0m[25… │ \u001b[2mfloat32\u001b[0m[2… │\n",
            "│            │            │            │            │ var:        │ scale:     │\n",
            "│            │            │            │            │ \u001b[2mfloat32\u001b[0m[25… │ \u001b[2mfloat32\u001b[0m[2… │\n",
            "│            │            │            │            │             │            │\n",
            "│            │            │            │            │ \u001b[1m512 \u001b[0m\u001b[1;2m(2.0 \u001b[0m   │ \u001b[1m512 \u001b[0m\u001b[1;2m(2.0 \u001b[0m  │\n",
            "│            │            │            │            │ \u001b[1;2mKB)\u001b[0m         │ \u001b[1;2mKB)\u001b[0m        │\n",
            "├────────────┼────────────┼────────────┼────────────┼─────────────┼────────────┤\n",
            "│ Down_2     │ Down       │ \u001b[2mfloat32\u001b[0m[0… │ \u001b[2mfloat32\u001b[0m[0… │             │            │\n",
            "├────────────┼────────────┼────────────┼────────────┼─────────────┼────────────┤\n",
            "│ Down_2/Do… │ DoubleCon… │ \u001b[2mfloat32\u001b[0m[0… │ \u001b[2mfloat32\u001b[0m[0… │             │            │\n",
            "├────────────┼────────────┼────────────┼────────────┼─────────────┼────────────┤\n",
            "│ Down_2/Do… │ Conv       │ \u001b[2mfloat32\u001b[0m[0… │ \u001b[2mfloat32\u001b[0m[0… │             │ bias:      │\n",
            "│            │            │            │            │             │ \u001b[2mfloat32\u001b[0m[5… │\n",
            "│            │            │            │            │             │ kernel:    │\n",
            "│            │            │            │            │             │ \u001b[2mfloat32\u001b[0m[3… │\n",
            "│            │            │            │            │             │            │\n",
            "│            │            │            │            │             │ \u001b[1m1,180,160 \u001b[0m │\n",
            "│            │            │            │            │             │ \u001b[1;2m(4.7 MB)\u001b[0m   │\n",
            "├────────────┼────────────┼────────────┼────────────┼─────────────┼────────────┤\n",
            "│ Down_2/Do… │ BatchNorm  │ \u001b[2mfloat32\u001b[0m[0… │ \u001b[2mfloat32\u001b[0m[0… │ mean:       │ bias:      │\n",
            "│            │            │            │            │ \u001b[2mfloat32\u001b[0m[51… │ \u001b[2mfloat32\u001b[0m[5… │\n",
            "│            │            │            │            │ var:        │ scale:     │\n",
            "│            │            │            │            │ \u001b[2mfloat32\u001b[0m[51… │ \u001b[2mfloat32\u001b[0m[5… │\n",
            "│            │            │            │            │             │            │\n",
            "│            │            │            │            │ \u001b[1m1,024 \u001b[0m\u001b[1;2m(4.1 \u001b[0m │ \u001b[1m1,024 \u001b[0m\u001b[1;2m(4.1\u001b[0m │\n",
            "│            │            │            │            │ \u001b[1;2mKB)\u001b[0m         │ \u001b[1;2mKB)\u001b[0m        │\n",
            "├────────────┼────────────┼────────────┼────────────┼─────────────┼────────────┤\n",
            "│ Down_2/Do… │ Conv       │ \u001b[2mfloat32\u001b[0m[0… │ \u001b[2mfloat32\u001b[0m[0… │             │ bias:      │\n",
            "│            │            │            │            │             │ \u001b[2mfloat32\u001b[0m[5… │\n",
            "│            │            │            │            │             │ kernel:    │\n",
            "│            │            │            │            │             │ \u001b[2mfloat32\u001b[0m[3… │\n",
            "│            │            │            │            │             │            │\n",
            "│            │            │            │            │             │ \u001b[1m2,359,808 \u001b[0m │\n",
            "│            │            │            │            │             │ \u001b[1;2m(9.4 MB)\u001b[0m   │\n",
            "├────────────┼────────────┼────────────┼────────────┼─────────────┼────────────┤\n",
            "│ Down_2/Do… │ BatchNorm  │ \u001b[2mfloat32\u001b[0m[0… │ \u001b[2mfloat32\u001b[0m[0… │ mean:       │ bias:      │\n",
            "│            │            │            │            │ \u001b[2mfloat32\u001b[0m[51… │ \u001b[2mfloat32\u001b[0m[5… │\n",
            "│            │            │            │            │ var:        │ scale:     │\n",
            "│            │            │            │            │ \u001b[2mfloat32\u001b[0m[51… │ \u001b[2mfloat32\u001b[0m[5… │\n",
            "│            │            │            │            │             │            │\n",
            "│            │            │            │            │ \u001b[1m1,024 \u001b[0m\u001b[1;2m(4.1 \u001b[0m │ \u001b[1m1,024 \u001b[0m\u001b[1;2m(4.1\u001b[0m │\n",
            "│            │            │            │            │ \u001b[1;2mKB)\u001b[0m         │ \u001b[1;2mKB)\u001b[0m        │\n",
            "├────────────┼────────────┼────────────┼────────────┼─────────────┼────────────┤\n",
            "│ Down_3     │ Down       │ \u001b[2mfloat32\u001b[0m[0… │ \u001b[2mfloat32\u001b[0m[0… │             │            │\n",
            "├────────────┼────────────┼────────────┼────────────┼─────────────┼────────────┤\n",
            "│ Down_3/Do… │ DoubleCon… │ \u001b[2mfloat32\u001b[0m[0… │ \u001b[2mfloat32\u001b[0m[0… │             │            │\n",
            "├────────────┼────────────┼────────────┼────────────┼─────────────┼────────────┤\n",
            "│ Down_3/Do… │ Conv       │ \u001b[2mfloat32\u001b[0m[0… │ \u001b[2mfloat32\u001b[0m[0… │             │ bias:      │\n",
            "│            │            │            │            │             │ \u001b[2mfloat32\u001b[0m[1… │\n",
            "│            │            │            │            │             │ kernel:    │\n",
            "│            │            │            │            │             │ \u001b[2mfloat32\u001b[0m[3… │\n",
            "│            │            │            │            │             │            │\n",
            "│            │            │            │            │             │ \u001b[1m4,719,616 \u001b[0m │\n",
            "│            │            │            │            │             │ \u001b[1;2m(18.9 MB)\u001b[0m  │\n",
            "├────────────┼────────────┼────────────┼────────────┼─────────────┼────────────┤\n",
            "│ Down_3/Do… │ BatchNorm  │ \u001b[2mfloat32\u001b[0m[0… │ \u001b[2mfloat32\u001b[0m[0… │ mean:       │ bias:      │\n",
            "│            │            │            │            │ \u001b[2mfloat32\u001b[0m[10… │ \u001b[2mfloat32\u001b[0m[1… │\n",
            "│            │            │            │            │ var:        │ scale:     │\n",
            "│            │            │            │            │ \u001b[2mfloat32\u001b[0m[10… │ \u001b[2mfloat32\u001b[0m[1… │\n",
            "│            │            │            │            │             │            │\n",
            "│            │            │            │            │ \u001b[1m2,048 \u001b[0m\u001b[1;2m(8.2 \u001b[0m │ \u001b[1m2,048 \u001b[0m\u001b[1;2m(8.2\u001b[0m │\n",
            "│            │            │            │            │ \u001b[1;2mKB)\u001b[0m         │ \u001b[1;2mKB)\u001b[0m        │\n",
            "├────────────┼────────────┼────────────┼────────────┼─────────────┼────────────┤\n",
            "│ Down_3/Do… │ Conv       │ \u001b[2mfloat32\u001b[0m[0… │ \u001b[2mfloat32\u001b[0m[0… │             │ bias:      │\n",
            "│            │            │            │            │             │ \u001b[2mfloat32\u001b[0m[1… │\n",
            "│            │            │            │            │             │ kernel:    │\n",
            "│            │            │            │            │             │ \u001b[2mfloat32\u001b[0m[3… │\n",
            "│            │            │            │            │             │            │\n",
            "│            │            │            │            │             │ \u001b[1m9,438,208 \u001b[0m │\n",
            "│            │            │            │            │             │ \u001b[1;2m(37.8 MB)\u001b[0m  │\n",
            "├────────────┼────────────┼────────────┼────────────┼─────────────┼────────────┤\n",
            "│ Down_3/Do… │ BatchNorm  │ \u001b[2mfloat32\u001b[0m[0… │ \u001b[2mfloat32\u001b[0m[0… │ mean:       │ bias:      │\n",
            "│            │            │            │            │ \u001b[2mfloat32\u001b[0m[10… │ \u001b[2mfloat32\u001b[0m[1… │\n",
            "│            │            │            │            │ var:        │ scale:     │\n",
            "│            │            │            │            │ \u001b[2mfloat32\u001b[0m[10… │ \u001b[2mfloat32\u001b[0m[1… │\n",
            "│            │            │            │            │             │            │\n",
            "│            │            │            │            │ \u001b[1m2,048 \u001b[0m\u001b[1;2m(8.2 \u001b[0m │ \u001b[1m2,048 \u001b[0m\u001b[1;2m(8.2\u001b[0m │\n",
            "│            │            │            │            │ \u001b[1;2mKB)\u001b[0m         │ \u001b[1;2mKB)\u001b[0m        │\n",
            "├────────────┼────────────┼────────────┼────────────┼─────────────┼────────────┤\n",
            "│ Up_0       │ Up         │ \u001b[2mfloat32\u001b[0m[0… │ \u001b[2mfloat32\u001b[0m[0… │             │            │\n",
            "├────────────┼────────────┼────────────┼────────────┼─────────────┼────────────┤\n",
            "│ Up_0/Conv… │ ConvTrans… │ \u001b[2mfloat32\u001b[0m[0… │ \u001b[2mfloat32\u001b[0m[0… │             │ bias:      │\n",
            "│            │            │            │            │             │ \u001b[2mfloat32\u001b[0m[1… │\n",
            "│            │            │            │            │             │ kernel:    │\n",
            "│            │            │            │            │             │ \u001b[2mfloat32\u001b[0m[2… │\n",
            "│            │            │            │            │             │            │\n",
            "│            │            │            │            │             │ \u001b[1m4,195,328 \u001b[0m │\n",
            "│            │            │            │            │             │ \u001b[1;2m(16.8 MB)\u001b[0m  │\n",
            "├────────────┼────────────┼────────────┼────────────┼─────────────┼────────────┤\n",
            "│ Up_0/Doub… │ DoubleCon… │ \u001b[2mfloat32\u001b[0m[0… │ \u001b[2mfloat32\u001b[0m[0… │             │            │\n",
            "├────────────┼────────────┼────────────┼────────────┼─────────────┼────────────┤\n",
            "│ Up_0/Doub… │ Conv       │ \u001b[2mfloat32\u001b[0m[0… │ \u001b[2mfloat32\u001b[0m[0… │             │ bias:      │\n",
            "│            │            │            │            │             │ \u001b[2mfloat32\u001b[0m[5… │\n",
            "│            │            │            │            │             │ kernel:    │\n",
            "│            │            │            │            │             │ \u001b[2mfloat32\u001b[0m[3… │\n",
            "│            │            │            │            │             │            │\n",
            "│            │            │            │            │             │ \u001b[1m4,719,104 \u001b[0m │\n",
            "│            │            │            │            │             │ \u001b[1;2m(18.9 MB)\u001b[0m  │\n",
            "├────────────┼────────────┼────────────┼────────────┼─────────────┼────────────┤\n",
            "│ Up_0/Doub… │ BatchNorm  │ \u001b[2mfloat32\u001b[0m[0… │ \u001b[2mfloat32\u001b[0m[0… │ mean:       │ bias:      │\n",
            "│            │            │            │            │ \u001b[2mfloat32\u001b[0m[51… │ \u001b[2mfloat32\u001b[0m[5… │\n",
            "│            │            │            │            │ var:        │ scale:     │\n",
            "│            │            │            │            │ \u001b[2mfloat32\u001b[0m[51… │ \u001b[2mfloat32\u001b[0m[5… │\n",
            "│            │            │            │            │             │            │\n",
            "│            │            │            │            │ \u001b[1m1,024 \u001b[0m\u001b[1;2m(4.1 \u001b[0m │ \u001b[1m1,024 \u001b[0m\u001b[1;2m(4.1\u001b[0m │\n",
            "│            │            │            │            │ \u001b[1;2mKB)\u001b[0m         │ \u001b[1;2mKB)\u001b[0m        │\n",
            "├────────────┼────────────┼────────────┼────────────┼─────────────┼────────────┤\n",
            "│ Up_0/Doub… │ Conv       │ \u001b[2mfloat32\u001b[0m[0… │ \u001b[2mfloat32\u001b[0m[0… │             │ bias:      │\n",
            "│            │            │            │            │             │ \u001b[2mfloat32\u001b[0m[5… │\n",
            "│            │            │            │            │             │ kernel:    │\n",
            "│            │            │            │            │             │ \u001b[2mfloat32\u001b[0m[3… │\n",
            "│            │            │            │            │             │            │\n",
            "│            │            │            │            │             │ \u001b[1m2,359,808 \u001b[0m │\n",
            "│            │            │            │            │             │ \u001b[1;2m(9.4 MB)\u001b[0m   │\n",
            "├────────────┼────────────┼────────────┼────────────┼─────────────┼────────────┤\n",
            "│ Up_0/Doub… │ BatchNorm  │ \u001b[2mfloat32\u001b[0m[0… │ \u001b[2mfloat32\u001b[0m[0… │ mean:       │ bias:      │\n",
            "│            │            │            │            │ \u001b[2mfloat32\u001b[0m[51… │ \u001b[2mfloat32\u001b[0m[5… │\n",
            "│            │            │            │            │ var:        │ scale:     │\n",
            "│            │            │            │            │ \u001b[2mfloat32\u001b[0m[51… │ \u001b[2mfloat32\u001b[0m[5… │\n",
            "│            │            │            │            │             │            │\n",
            "│            │            │            │            │ \u001b[1m1,024 \u001b[0m\u001b[1;2m(4.1 \u001b[0m │ \u001b[1m1,024 \u001b[0m\u001b[1;2m(4.1\u001b[0m │\n",
            "│            │            │            │            │ \u001b[1;2mKB)\u001b[0m         │ \u001b[1;2mKB)\u001b[0m        │\n",
            "├────────────┼────────────┼────────────┼────────────┼─────────────┼────────────┤\n",
            "│ Up_1       │ Up         │ \u001b[2mfloat32\u001b[0m[0… │ \u001b[2mfloat32\u001b[0m[0… │             │            │\n",
            "├────────────┼────────────┼────────────┼────────────┼─────────────┼────────────┤\n",
            "│ Up_1/Conv… │ ConvTrans… │ \u001b[2mfloat32\u001b[0m[0… │ \u001b[2mfloat32\u001b[0m[0… │             │ bias:      │\n",
            "│            │            │            │            │             │ \u001b[2mfloat32\u001b[0m[5… │\n",
            "│            │            │            │            │             │ kernel:    │\n",
            "│            │            │            │            │             │ \u001b[2mfloat32\u001b[0m[2… │\n",
            "│            │            │            │            │             │            │\n",
            "│            │            │            │            │             │ \u001b[1m1,049,088 \u001b[0m │\n",
            "│            │            │            │            │             │ \u001b[1;2m(4.2 MB)\u001b[0m   │\n",
            "├────────────┼────────────┼────────────┼────────────┼─────────────┼────────────┤\n",
            "│ Up_1/Doub… │ DoubleCon… │ \u001b[2mfloat32\u001b[0m[0… │ \u001b[2mfloat32\u001b[0m[0… │             │            │\n",
            "├────────────┼────────────┼────────────┼────────────┼─────────────┼────────────┤\n",
            "│ Up_1/Doub… │ Conv       │ \u001b[2mfloat32\u001b[0m[0… │ \u001b[2mfloat32\u001b[0m[0… │             │ bias:      │\n",
            "│            │            │            │            │             │ \u001b[2mfloat32\u001b[0m[2… │\n",
            "│            │            │            │            │             │ kernel:    │\n",
            "│            │            │            │            │             │ \u001b[2mfloat32\u001b[0m[3… │\n",
            "│            │            │            │            │             │            │\n",
            "│            │            │            │            │             │ \u001b[1m1,179,904 \u001b[0m │\n",
            "│            │            │            │            │             │ \u001b[1;2m(4.7 MB)\u001b[0m   │\n",
            "├────────────┼────────────┼────────────┼────────────┼─────────────┼────────────┤\n",
            "│ Up_1/Doub… │ BatchNorm  │ \u001b[2mfloat32\u001b[0m[0… │ \u001b[2mfloat32\u001b[0m[0… │ mean:       │ bias:      │\n",
            "│            │            │            │            │ \u001b[2mfloat32\u001b[0m[25… │ \u001b[2mfloat32\u001b[0m[2… │\n",
            "│            │            │            │            │ var:        │ scale:     │\n",
            "│            │            │            │            │ \u001b[2mfloat32\u001b[0m[25… │ \u001b[2mfloat32\u001b[0m[2… │\n",
            "│            │            │            │            │             │            │\n",
            "│            │            │            │            │ \u001b[1m512 \u001b[0m\u001b[1;2m(2.0 \u001b[0m   │ \u001b[1m512 \u001b[0m\u001b[1;2m(2.0 \u001b[0m  │\n",
            "│            │            │            │            │ \u001b[1;2mKB)\u001b[0m         │ \u001b[1;2mKB)\u001b[0m        │\n",
            "├────────────┼────────────┼────────────┼────────────┼─────────────┼────────────┤\n",
            "│ Up_1/Doub… │ Conv       │ \u001b[2mfloat32\u001b[0m[0… │ \u001b[2mfloat32\u001b[0m[0… │             │ bias:      │\n",
            "│            │            │            │            │             │ \u001b[2mfloat32\u001b[0m[2… │\n",
            "│            │            │            │            │             │ kernel:    │\n",
            "│            │            │            │            │             │ \u001b[2mfloat32\u001b[0m[3… │\n",
            "│            │            │            │            │             │            │\n",
            "│            │            │            │            │             │ \u001b[1m590,080 \u001b[0m   │\n",
            "│            │            │            │            │             │ \u001b[1;2m(2.4 MB)\u001b[0m   │\n",
            "├────────────┼────────────┼────────────┼────────────┼─────────────┼────────────┤\n",
            "│ Up_1/Doub… │ BatchNorm  │ \u001b[2mfloat32\u001b[0m[0… │ \u001b[2mfloat32\u001b[0m[0… │ mean:       │ bias:      │\n",
            "│            │            │            │            │ \u001b[2mfloat32\u001b[0m[25… │ \u001b[2mfloat32\u001b[0m[2… │\n",
            "│            │            │            │            │ var:        │ scale:     │\n",
            "│            │            │            │            │ \u001b[2mfloat32\u001b[0m[25… │ \u001b[2mfloat32\u001b[0m[2… │\n",
            "│            │            │            │            │             │            │\n",
            "│            │            │            │            │ \u001b[1m512 \u001b[0m\u001b[1;2m(2.0 \u001b[0m   │ \u001b[1m512 \u001b[0m\u001b[1;2m(2.0 \u001b[0m  │\n",
            "│            │            │            │            │ \u001b[1;2mKB)\u001b[0m         │ \u001b[1;2mKB)\u001b[0m        │\n",
            "├────────────┼────────────┼────────────┼────────────┼─────────────┼────────────┤\n",
            "│ Up_2       │ Up         │ \u001b[2mfloat32\u001b[0m[0… │ \u001b[2mfloat32\u001b[0m[0… │             │            │\n",
            "├────────────┼────────────┼────────────┼────────────┼─────────────┼────────────┤\n",
            "│ Up_2/Conv… │ ConvTrans… │ \u001b[2mfloat32\u001b[0m[0… │ \u001b[2mfloat32\u001b[0m[0… │             │ bias:      │\n",
            "│            │            │            │            │             │ \u001b[2mfloat32\u001b[0m[2… │\n",
            "│            │            │            │            │             │ kernel:    │\n",
            "│            │            │            │            │             │ \u001b[2mfloat32\u001b[0m[2… │\n",
            "│            │            │            │            │             │            │\n",
            "│            │            │            │            │             │ \u001b[1m262,400 \u001b[0m   │\n",
            "│            │            │            │            │             │ \u001b[1;2m(1.0 MB)\u001b[0m   │\n",
            "├────────────┼────────────┼────────────┼────────────┼─────────────┼────────────┤\n",
            "│ Up_2/Doub… │ DoubleCon… │ \u001b[2mfloat32\u001b[0m[0… │ \u001b[2mfloat32\u001b[0m[0… │             │            │\n",
            "├────────────┼────────────┼────────────┼────────────┼─────────────┼────────────┤\n",
            "│ Up_2/Doub… │ Conv       │ \u001b[2mfloat32\u001b[0m[0… │ \u001b[2mfloat32\u001b[0m[0… │             │ bias:      │\n",
            "│            │            │            │            │             │ \u001b[2mfloat32\u001b[0m[1… │\n",
            "│            │            │            │            │             │ kernel:    │\n",
            "│            │            │            │            │             │ \u001b[2mfloat32\u001b[0m[3… │\n",
            "│            │            │            │            │             │            │\n",
            "│            │            │            │            │             │ \u001b[1m295,040 \u001b[0m   │\n",
            "│            │            │            │            │             │ \u001b[1;2m(1.2 MB)\u001b[0m   │\n",
            "├────────────┼────────────┼────────────┼────────────┼─────────────┼────────────┤\n",
            "│ Up_2/Doub… │ BatchNorm  │ \u001b[2mfloat32\u001b[0m[0… │ \u001b[2mfloat32\u001b[0m[0… │ mean:       │ bias:      │\n",
            "│            │            │            │            │ \u001b[2mfloat32\u001b[0m[12… │ \u001b[2mfloat32\u001b[0m[1… │\n",
            "│            │            │            │            │ var:        │ scale:     │\n",
            "│            │            │            │            │ \u001b[2mfloat32\u001b[0m[12… │ \u001b[2mfloat32\u001b[0m[1… │\n",
            "│            │            │            │            │             │            │\n",
            "│            │            │            │            │ \u001b[1m256 \u001b[0m\u001b[1;2m(1.0 \u001b[0m   │ \u001b[1m256 \u001b[0m\u001b[1;2m(1.0 \u001b[0m  │\n",
            "│            │            │            │            │ \u001b[1;2mKB)\u001b[0m         │ \u001b[1;2mKB)\u001b[0m        │\n",
            "├────────────┼────────────┼────────────┼────────────┼─────────────┼────────────┤\n",
            "│ Up_2/Doub… │ Conv       │ \u001b[2mfloat32\u001b[0m[0… │ \u001b[2mfloat32\u001b[0m[0… │             │ bias:      │\n",
            "│            │            │            │            │             │ \u001b[2mfloat32\u001b[0m[1… │\n",
            "│            │            │            │            │             │ kernel:    │\n",
            "│            │            │            │            │             │ \u001b[2mfloat32\u001b[0m[3… │\n",
            "│            │            │            │            │             │            │\n",
            "│            │            │            │            │             │ \u001b[1m147,584 \u001b[0m   │\n",
            "│            │            │            │            │             │ \u001b[1;2m(590.3 KB)\u001b[0m │\n",
            "├────────────┼────────────┼────────────┼────────────┼─────────────┼────────────┤\n",
            "│ Up_2/Doub… │ BatchNorm  │ \u001b[2mfloat32\u001b[0m[0… │ \u001b[2mfloat32\u001b[0m[0… │ mean:       │ bias:      │\n",
            "│            │            │            │            │ \u001b[2mfloat32\u001b[0m[12… │ \u001b[2mfloat32\u001b[0m[1… │\n",
            "│            │            │            │            │ var:        │ scale:     │\n",
            "│            │            │            │            │ \u001b[2mfloat32\u001b[0m[12… │ \u001b[2mfloat32\u001b[0m[1… │\n",
            "│            │            │            │            │             │            │\n",
            "│            │            │            │            │ \u001b[1m256 \u001b[0m\u001b[1;2m(1.0 \u001b[0m   │ \u001b[1m256 \u001b[0m\u001b[1;2m(1.0 \u001b[0m  │\n",
            "│            │            │            │            │ \u001b[1;2mKB)\u001b[0m         │ \u001b[1;2mKB)\u001b[0m        │\n",
            "├────────────┼────────────┼────────────┼────────────┼─────────────┼────────────┤\n",
            "│ Up_3       │ Up         │ \u001b[2mfloat32\u001b[0m[0… │ \u001b[2mfloat32\u001b[0m[0… │             │            │\n",
            "├────────────┼────────────┼────────────┼────────────┼─────────────┼────────────┤\n",
            "│ Up_3/Conv… │ ConvTrans… │ \u001b[2mfloat32\u001b[0m[0… │ \u001b[2mfloat32\u001b[0m[0… │             │ bias:      │\n",
            "│            │            │            │            │             │ \u001b[2mfloat32\u001b[0m[1… │\n",
            "│            │            │            │            │             │ kernel:    │\n",
            "│            │            │            │            │             │ \u001b[2mfloat32\u001b[0m[2… │\n",
            "│            │            │            │            │             │            │\n",
            "│            │            │            │            │             │ \u001b[1m65,664 \u001b[0m    │\n",
            "│            │            │            │            │             │ \u001b[1;2m(262.7 KB)\u001b[0m │\n",
            "├────────────┼────────────┼────────────┼────────────┼─────────────┼────────────┤\n",
            "│ Up_3/Doub… │ DoubleCon… │ \u001b[2mfloat32\u001b[0m[0… │ \u001b[2mfloat32\u001b[0m[0… │             │            │\n",
            "├────────────┼────────────┼────────────┼────────────┼─────────────┼────────────┤\n",
            "│ Up_3/Doub… │ Conv       │ \u001b[2mfloat32\u001b[0m[0… │ \u001b[2mfloat32\u001b[0m[0… │             │ bias:      │\n",
            "│            │            │            │            │             │ \u001b[2mfloat32\u001b[0m[6… │\n",
            "│            │            │            │            │             │ kernel:    │\n",
            "│            │            │            │            │             │ \u001b[2mfloat32\u001b[0m[3… │\n",
            "│            │            │            │            │             │            │\n",
            "│            │            │            │            │             │ \u001b[1m73,792 \u001b[0m    │\n",
            "│            │            │            │            │             │ \u001b[1;2m(295.2 KB)\u001b[0m │\n",
            "├────────────┼────────────┼────────────┼────────────┼─────────────┼────────────┤\n",
            "│ Up_3/Doub… │ BatchNorm  │ \u001b[2mfloat32\u001b[0m[0… │ \u001b[2mfloat32\u001b[0m[0… │ mean:       │ bias:      │\n",
            "│            │            │            │            │ \u001b[2mfloat32\u001b[0m[64] │ \u001b[2mfloat32\u001b[0m[6… │\n",
            "│            │            │            │            │ var:        │ scale:     │\n",
            "│            │            │            │            │ \u001b[2mfloat32\u001b[0m[64] │ \u001b[2mfloat32\u001b[0m[6… │\n",
            "│            │            │            │            │             │            │\n",
            "│            │            │            │            │ \u001b[1m128 \u001b[0m\u001b[1;2m(512 B)\u001b[0m │ \u001b[1m128 \u001b[0m\u001b[1;2m(512 \u001b[0m  │\n",
            "│            │            │            │            │             │ \u001b[1;2mB)\u001b[0m         │\n",
            "├────────────┼────────────┼────────────┼────────────┼─────────────┼────────────┤\n",
            "│ Up_3/Doub… │ Conv       │ \u001b[2mfloat32\u001b[0m[0… │ \u001b[2mfloat32\u001b[0m[0… │             │ bias:      │\n",
            "│            │            │            │            │             │ \u001b[2mfloat32\u001b[0m[6… │\n",
            "│            │            │            │            │             │ kernel:    │\n",
            "│            │            │            │            │             │ \u001b[2mfloat32\u001b[0m[3… │\n",
            "│            │            │            │            │             │            │\n",
            "│            │            │            │            │             │ \u001b[1m36,928 \u001b[0m    │\n",
            "│            │            │            │            │             │ \u001b[1;2m(147.7 KB)\u001b[0m │\n",
            "├────────────┼────────────┼────────────┼────────────┼─────────────┼────────────┤\n",
            "│ Up_3/Doub… │ BatchNorm  │ \u001b[2mfloat32\u001b[0m[0… │ \u001b[2mfloat32\u001b[0m[0… │ mean:       │ bias:      │\n",
            "│            │            │            │            │ \u001b[2mfloat32\u001b[0m[64] │ \u001b[2mfloat32\u001b[0m[6… │\n",
            "│            │            │            │            │ var:        │ scale:     │\n",
            "│            │            │            │            │ \u001b[2mfloat32\u001b[0m[64] │ \u001b[2mfloat32\u001b[0m[6… │\n",
            "│            │            │            │            │             │            │\n",
            "│            │            │            │            │ \u001b[1m128 \u001b[0m\u001b[1;2m(512 B)\u001b[0m │ \u001b[1m128 \u001b[0m\u001b[1;2m(512 \u001b[0m  │\n",
            "│            │            │            │            │             │ \u001b[1;2mB)\u001b[0m         │\n",
            "├────────────┼────────────┼────────────┼────────────┼─────────────┼────────────┤\n",
            "│ Dense_0    │ Dense      │ \u001b[2mfloat32\u001b[0m[0… │ \u001b[2mfloat32\u001b[0m[0… │             │ bias:      │\n",
            "│            │            │            │            │             │ \u001b[2mfloat32\u001b[0m[2] │\n",
            "│            │            │            │            │             │ kernel:    │\n",
            "│            │            │            │            │             │ \u001b[2mfloat32\u001b[0m[6… │\n",
            "│            │            │            │            │             │            │\n",
            "│            │            │            │            │             │ \u001b[1m130 \u001b[0m\u001b[1;2m(520 \u001b[0m  │\n",
            "│            │            │            │            │             │ \u001b[1;2mB)\u001b[0m         │\n",
            "├────────────┼────────────┼────────────┼────────────┼─────────────┼────────────┤\n",
            "│\u001b[1m \u001b[0m\u001b[1m          \u001b[0m\u001b[1m \u001b[0m│\u001b[1m \u001b[0m\u001b[1m          \u001b[0m\u001b[1m \u001b[0m│\u001b[1m \u001b[0m\u001b[1m          \u001b[0m\u001b[1m \u001b[0m│\u001b[1m \u001b[0m\u001b[1m     Total\u001b[0m\u001b[1m \u001b[0m│\u001b[1m \u001b[0m\u001b[1m11,776     \u001b[0m\u001b[1m \u001b[0m│\u001b[1m \u001b[0m\u001b[1m34,157,570\u001b[0m\u001b[1m \u001b[0m│\n",
            "│\u001b[1m            \u001b[0m│\u001b[1m            \u001b[0m│\u001b[1m            \u001b[0m│\u001b[1m            \u001b[0m│\u001b[1m \u001b[0m\u001b[1;2m(47.1 KB)\u001b[0m\u001b[1m  \u001b[0m\u001b[1m \u001b[0m│\u001b[1m \u001b[0m\u001b[1;2m(136.6 MB)\u001b[0m\u001b[1m \u001b[0m│\n",
            "└────────────┴────────────┴────────────┴────────────┴─────────────┴────────────┘\n",
            "\u001b[1m                                                                                \u001b[0m\n",
            "\u001b[1m                    Total Parameters: 34,169,346 \u001b[0m\u001b[1;2m(136.7 MB)\u001b[0m\u001b[1m                     \u001b[0m\n",
            "\n",
            "\n"
          ]
        }
      ]
    },
    {
      "cell_type": "code",
      "source": [
        "from torchvision.datasets import MNIST\n",
        "from torch.utils.data import DataLoader"
      ],
      "metadata": {
        "id": "QkDX7pMVTgzM"
      },
      "execution_count": 28,
      "outputs": []
    },
    {
      "cell_type": "code",
      "source": [
        "def custom_transform(x):\n",
        "    # A couple of modifications here compared to tutorial #3 since we're using a CNN\n",
        "    # Input: (28, 28) uint8 [0, 255] torch.Tensor, Output: (28, 28, 1) float32 [0, 1] np array\n",
        "    return np.expand_dims(np.array(x, dtype=np.float32), axis=2) / 255.\n",
        "\n",
        "def custom_collate_fn(batch):\n",
        "    \"\"\"Provides us with batches of numpy arrays and not PyTorch's tensors.\"\"\"\n",
        "    transposed_data = list(zip(*batch))\n",
        "\n",
        "    labels = np.array(transposed_data[1])\n",
        "    imgs = np.stack(transposed_data[0])\n",
        "\n",
        "    return imgs, labels\n",
        "\n",
        "mnist_img_size = (28, 28, 1)\n",
        "batch_size = 128\n",
        "\n",
        "train_dataset = MNIST(root='train_mnist', train=True, download=True, transform=custom_transform)\n",
        "test_dataset = MNIST(root='test_mnist', train=False, download=True, transform=custom_transform)\n",
        "\n",
        "train_loader = DataLoader(train_dataset, batch_size, shuffle=True, collate_fn=custom_collate_fn, drop_last=True)\n",
        "test_loader = DataLoader(test_dataset, batch_size, shuffle=False, collate_fn=custom_collate_fn, drop_last=True)\n",
        "\n",
        "# optimization - loading the whole dataset into memory\n",
        "train_images = jnp.array(train_dataset.data)\n",
        "train_lbls = jnp.array(train_dataset.targets)\n",
        "\n",
        "# np.expand_dims is to convert shape from (10000, 28, 28) -> (10000, 28, 28, 1)\n",
        "# We don't have to do this for training images because custom_transform does it for us.\n",
        "test_images = np.expand_dims(jnp.array(test_dataset.data), axis=3)\n",
        "test_lbls = jnp.array(test_dataset.targets)"
      ],
      "metadata": {
        "colab": {
          "base_uri": "https://localhost:8080/"
        },
        "id": "0nJ9KCX2j3xB",
        "outputId": "7ea61dce-891a-4afc-d34f-80acf9471dea"
      },
      "execution_count": 29,
      "outputs": [
        {
          "output_type": "stream",
          "name": "stdout",
          "text": [
            "Downloading http://yann.lecun.com/exdb/mnist/train-images-idx3-ubyte.gz\n",
            "Downloading http://yann.lecun.com/exdb/mnist/train-images-idx3-ubyte.gz to train_mnist/MNIST/raw/train-images-idx3-ubyte.gz\n"
          ]
        },
        {
          "output_type": "stream",
          "name": "stderr",
          "text": [
            "100%|██████████| 9912422/9912422 [00:00<00:00, 74040185.36it/s]\n"
          ]
        },
        {
          "output_type": "stream",
          "name": "stdout",
          "text": [
            "Extracting train_mnist/MNIST/raw/train-images-idx3-ubyte.gz to train_mnist/MNIST/raw\n",
            "\n",
            "Downloading http://yann.lecun.com/exdb/mnist/train-labels-idx1-ubyte.gz\n",
            "Downloading http://yann.lecun.com/exdb/mnist/train-labels-idx1-ubyte.gz to train_mnist/MNIST/raw/train-labels-idx1-ubyte.gz\n"
          ]
        },
        {
          "output_type": "stream",
          "name": "stderr",
          "text": [
            "100%|██████████| 28881/28881 [00:00<00:00, 9027177.42it/s]\n"
          ]
        },
        {
          "output_type": "stream",
          "name": "stdout",
          "text": [
            "Extracting train_mnist/MNIST/raw/train-labels-idx1-ubyte.gz to train_mnist/MNIST/raw\n",
            "\n",
            "Downloading http://yann.lecun.com/exdb/mnist/t10k-images-idx3-ubyte.gz\n",
            "Downloading http://yann.lecun.com/exdb/mnist/t10k-images-idx3-ubyte.gz to train_mnist/MNIST/raw/t10k-images-idx3-ubyte.gz\n"
          ]
        },
        {
          "output_type": "stream",
          "name": "stderr",
          "text": [
            "100%|██████████| 1648877/1648877 [00:00<00:00, 21631087.82it/s]\n"
          ]
        },
        {
          "output_type": "stream",
          "name": "stdout",
          "text": [
            "Extracting train_mnist/MNIST/raw/t10k-images-idx3-ubyte.gz to train_mnist/MNIST/raw\n",
            "\n",
            "Downloading http://yann.lecun.com/exdb/mnist/t10k-labels-idx1-ubyte.gz\n",
            "Downloading http://yann.lecun.com/exdb/mnist/t10k-labels-idx1-ubyte.gz to train_mnist/MNIST/raw/t10k-labels-idx1-ubyte.gz\n"
          ]
        },
        {
          "output_type": "stream",
          "name": "stderr",
          "text": [
            "100%|██████████| 4542/4542 [00:00<00:00, 11594965.77it/s]\n"
          ]
        },
        {
          "output_type": "stream",
          "name": "stdout",
          "text": [
            "Extracting train_mnist/MNIST/raw/t10k-labels-idx1-ubyte.gz to train_mnist/MNIST/raw\n",
            "\n",
            "Downloading http://yann.lecun.com/exdb/mnist/train-images-idx3-ubyte.gz\n",
            "Downloading http://yann.lecun.com/exdb/mnist/train-images-idx3-ubyte.gz to test_mnist/MNIST/raw/train-images-idx3-ubyte.gz\n"
          ]
        },
        {
          "output_type": "stream",
          "name": "stderr",
          "text": [
            "100%|██████████| 9912422/9912422 [00:00<00:00, 80717467.96it/s]"
          ]
        },
        {
          "output_type": "stream",
          "name": "stdout",
          "text": [
            "Extracting test_mnist/MNIST/raw/train-images-idx3-ubyte.gz to test_mnist/MNIST/raw\n"
          ]
        },
        {
          "output_type": "stream",
          "name": "stderr",
          "text": [
            "\n"
          ]
        },
        {
          "output_type": "stream",
          "name": "stdout",
          "text": [
            "\n",
            "Downloading http://yann.lecun.com/exdb/mnist/train-labels-idx1-ubyte.gz\n",
            "Downloading http://yann.lecun.com/exdb/mnist/train-labels-idx1-ubyte.gz to test_mnist/MNIST/raw/train-labels-idx1-ubyte.gz\n"
          ]
        },
        {
          "output_type": "stream",
          "name": "stderr",
          "text": [
            "100%|██████████| 28881/28881 [00:00<00:00, 37203837.17it/s]\n"
          ]
        },
        {
          "output_type": "stream",
          "name": "stdout",
          "text": [
            "Extracting test_mnist/MNIST/raw/train-labels-idx1-ubyte.gz to test_mnist/MNIST/raw\n",
            "\n",
            "Downloading http://yann.lecun.com/exdb/mnist/t10k-images-idx3-ubyte.gz\n",
            "Downloading http://yann.lecun.com/exdb/mnist/t10k-images-idx3-ubyte.gz to test_mnist/MNIST/raw/t10k-images-idx3-ubyte.gz\n"
          ]
        },
        {
          "output_type": "stream",
          "name": "stderr",
          "text": [
            "100%|██████████| 1648877/1648877 [00:00<00:00, 22270676.69it/s]\n"
          ]
        },
        {
          "output_type": "stream",
          "name": "stdout",
          "text": [
            "Extracting test_mnist/MNIST/raw/t10k-images-idx3-ubyte.gz to test_mnist/MNIST/raw\n",
            "\n",
            "Downloading http://yann.lecun.com/exdb/mnist/t10k-labels-idx1-ubyte.gz\n",
            "Downloading http://yann.lecun.com/exdb/mnist/t10k-labels-idx1-ubyte.gz to test_mnist/MNIST/raw/t10k-labels-idx1-ubyte.gz\n"
          ]
        },
        {
          "output_type": "stream",
          "name": "stderr",
          "text": [
            "100%|██████████| 4542/4542 [00:00<00:00, 9749502.95it/s]\n"
          ]
        },
        {
          "output_type": "stream",
          "name": "stdout",
          "text": [
            "Extracting test_mnist/MNIST/raw/t10k-labels-idx1-ubyte.gz to test_mnist/MNIST/raw\n",
            "\n"
          ]
        }
      ]
    },
    {
      "cell_type": "code",
      "source": [
        "# Visualize a single image\n",
        "imgs, lbls = next(iter(test_loader))\n",
        "img = imgs[0].reshape(mnist_img_size)[:, :, 0]\n",
        "gt_lbl = lbls[0]\n",
        "\n",
        "print(gt_lbl)\n",
        "plt.imshow(img); plt.show()"
      ],
      "metadata": {
        "colab": {
          "base_uri": "https://localhost:8080/",
          "height": 448
        },
        "id": "olisdFDAj-K8",
        "outputId": "05bef29c-9155-46be-d390-6a82b659f9e6"
      },
      "execution_count": 30,
      "outputs": [
        {
          "output_type": "stream",
          "name": "stdout",
          "text": [
            "7\n"
          ]
        },
        {
          "output_type": "display_data",
          "data": {
            "text/plain": [
              "<Figure size 640x480 with 1 Axes>"
            ],
            "image/png": "[encoded data removed]"
          },
          "metadata": {}
        }
      ]
    },
    {
      "cell_type": "code",
      "source": [
        "@jax.jit\n",
        "def train_step(state, imgs, gt_labels):\n",
        "    def loss_fn(params):\n",
        "        logits = Unet().apply({'params': params}, imgs)\n",
        "        one_hot_gt_labels = jax.nn.one_hot(gt_labels, num_classes=10)\n",
        "        loss = -jnp.mean(jnp.sum(one_hot_gt_labels * logits, axis=-1))\n",
        "        return loss, logits\n",
        "  \n",
        "    (_, logits), grads = jax.value_and_grad(loss_fn, has_aux=True)(state.params)\n",
        "    state = state.apply_gradients(grads=grads)  # this is the whole update now! concise!\n",
        "    metrics = compute_metrics(logits=logits, gt_labels=gt_labels)  # duplicating loss calculation but it's a bit cleaner\n",
        "    return state, metrics\n",
        "\n",
        "@jax.jit\n",
        "def eval_step(state, imgs, gt_labels):\n",
        "    logits = Unet().apply({'params': state.params}, imgs)\n",
        "    return compute_metrics(logits=logits, gt_labels=gt_labels)"
      ],
      "metadata": {
        "id": "bX502O9nkFmk"
      },
      "execution_count": 35,
      "outputs": []
    },
    {
      "cell_type": "code",
      "source": [
        "def train_one_epoch(state, dataloader, epoch):\n",
        "    \"\"\"Train for 1 epoch on the training set.\"\"\"\n",
        "    batch_metrics = []\n",
        "    for cnt, (imgs, labels) in enumerate(dataloader):\n",
        "        state, metrics = train_step(state, imgs, labels)\n",
        "        batch_metrics.append(metrics)\n",
        "\n",
        "    # Aggregate the metrics\n",
        "    batch_metrics_np = jax.device_get(batch_metrics)  # pull from the accelerator onto host (CPU)\n",
        "    epoch_metrics_np = {\n",
        "        k: np.mean([metrics[k] for metrics in batch_metrics_np])\n",
        "        for k in batch_metrics_np[0]\n",
        "    }\n",
        "\n",
        "    return state, epoch_metrics_np\n",
        "\n",
        "def evaluate_model(state, test_imgs, test_lbls):\n",
        "    \"\"\"Evaluate on the validation set.\"\"\"\n",
        "    metrics = eval_step(state, test_imgs, test_lbls)\n",
        "    metrics = jax.device_get(metrics)  # pull from the accelerator onto host (CPU)\n",
        "    metrics = jax.tree_map(lambda x: x.item(), metrics)  # np.ndarray -> scalar\n",
        "    return metrics"
      ],
      "metadata": {
        "id": "Y4H-udd4kNYL"
      },
      "execution_count": 32,
      "outputs": []
    },
    {
      "cell_type": "code",
      "source": [
        "# This one will keep things nice and tidy compared to our previous examples\n",
        "def create_train_state(key, learning_rate, momentum):\n",
        "    unet = Unet()\n",
        "    params = unet.init(key, jnp.ones([1, *mnist_img_size]))['params']\n",
        "    sgd_opt = optax.sgd(learning_rate, momentum)\n",
        "    # TrainState is a simple built-in wrapper class that makes things a bit cleaner\n",
        "    return train_state.TrainState.create(apply_fn=unet.apply, params=params, tx=sgd_opt)\n",
        "\n",
        "def compute_metrics(*, logits, gt_labels):\n",
        "    one_hot_gt_labels = jax.nn.one_hot(gt_labels, num_classes=10)\n",
        "\n",
        "    loss = -jnp.mean(jnp.sum(one_hot_gt_labels * logits, axis=-1))\n",
        "    accuracy = jnp.mean(jnp.argmax(logits, -1) == gt_labels)\n",
        "\n",
        "    metrics = {\n",
        "        'loss': loss,\n",
        "        'accuracy': accuracy,\n",
        "    }\n",
        "    return metrics"
      ],
      "metadata": {
        "id": "nOyHanxzkO_y"
      },
      "execution_count": 37,
      "outputs": []
    },
    {
      "cell_type": "code",
      "source": [
        "# Finally let's define the high-level training/val loops\n",
        "seed = 0  # needless to say these should be in a config or defined like flags\n",
        "learning_rate = 0.1\n",
        "momentum = 0.9\n",
        "num_epochs = 2\n",
        "batch_size = 32\n",
        "\n",
        "train_state = create_train_state(jax.random.PRNGKey(seed), learning_rate, momentum)\n",
        "\n",
        "for epoch in range(1, num_epochs + 1):\n",
        "    train_state, train_metrics = train_one_epoch(train_state, train_loader, epoch)\n",
        "    print(f\"Train epoch: {epoch}, loss: {train_metrics['loss']}, accuracy: {train_metrics['accuracy'] * 100}\")\n",
        "\n",
        "    test_metrics = evaluate_model(train_state, test_images, test_lbls)\n",
        "    print(f\"Test epoch: {epoch}, loss: {test_metrics['loss']}, accuracy: {test_metrics['accuracy'] * 100}\")\n"
      ],
      "metadata": {
        "colab": {
          "base_uri": "https://localhost:8080/",
          "height": 713
        },
        "id": "RiCYKjRDkQki",
        "outputId": "43eb8f35-d657-484e-e9f1-556ce7074a12"
      },
      "execution_count": 38,
      "outputs": [
        {
          "output_type": "error",
          "ename": "ScopeCollectionNotFound",
          "evalue": "ignored",
          "traceback": [
            "\u001b[0;31m---------------------------------------------------------------------------\u001b[0m",
            "\u001b[0;31mScopeCollectionNotFound\u001b[0m                   Traceback (most recent call last)",
            "\u001b[0;32m<ipython-input-38-78e4f8736946>\u001b[0m in \u001b[0;36m<cell line: 10>\u001b[0;34m()\u001b[0m\n\u001b[1;32m      9\u001b[0m \u001b[0;34m\u001b[0m\u001b[0m\n\u001b[1;32m     10\u001b[0m \u001b[0;32mfor\u001b[0m \u001b[0mepoch\u001b[0m \u001b[0;32min\u001b[0m \u001b[0mrange\u001b[0m\u001b[0;34m(\u001b[0m\u001b[0;36m1\u001b[0m\u001b[0;34m,\u001b[0m \u001b[0mnum_epochs\u001b[0m \u001b[0;34m+\u001b[0m \u001b[0;36m1\u001b[0m\u001b[0;34m)\u001b[0m\u001b[0;34m:\u001b[0m\u001b[0;34m\u001b[0m\u001b[0;34m\u001b[0m\u001b[0m\n\u001b[0;32m---> 11\u001b[0;31m     \u001b[0mtrain_state\u001b[0m\u001b[0;34m,\u001b[0m \u001b[0mtrain_metrics\u001b[0m \u001b[0;34m=\u001b[0m \u001b[0mtrain_one_epoch\u001b[0m\u001b[0;34m(\u001b[0m\u001b[0mtrain_state\u001b[0m\u001b[0;34m,\u001b[0m \u001b[0mtrain_loader\u001b[0m\u001b[0;34m,\u001b[0m \u001b[0mepoch\u001b[0m\u001b[0;34m)\u001b[0m\u001b[0;34m\u001b[0m\u001b[0;34m\u001b[0m\u001b[0m\n\u001b[0m\u001b[1;32m     12\u001b[0m     \u001b[0mprint\u001b[0m\u001b[0;34m(\u001b[0m\u001b[0;34mf\"Train epoch: {epoch}, loss: {train_metrics['loss']}, accuracy: {train_metrics['accuracy'] * 100}\"\u001b[0m\u001b[0;34m)\u001b[0m\u001b[0;34m\u001b[0m\u001b[0;34m\u001b[0m\u001b[0m\n\u001b[1;32m     13\u001b[0m \u001b[0;34m\u001b[0m\u001b[0m\n",
            "\u001b[0;32m<ipython-input-32-f41d59039cde>\u001b[0m in \u001b[0;36mtrain_one_epoch\u001b[0;34m(state, dataloader, epoch)\u001b[0m\n\u001b[1;32m      3\u001b[0m     \u001b[0mbatch_metrics\u001b[0m \u001b[0;34m=\u001b[0m \u001b[0;34m[\u001b[0m\u001b[0;34m]\u001b[0m\u001b[0;34m\u001b[0m\u001b[0;34m\u001b[0m\u001b[0m\n\u001b[1;32m      4\u001b[0m     \u001b[0;32mfor\u001b[0m \u001b[0mcnt\u001b[0m\u001b[0;34m,\u001b[0m \u001b[0;34m(\u001b[0m\u001b[0mimgs\u001b[0m\u001b[0;34m,\u001b[0m \u001b[0mlabels\u001b[0m\u001b[0;34m)\u001b[0m \u001b[0;32min\u001b[0m \u001b[0menumerate\u001b[0m\u001b[0;34m(\u001b[0m\u001b[0mdataloader\u001b[0m\u001b[0;34m)\u001b[0m\u001b[0;34m:\u001b[0m\u001b[0;34m\u001b[0m\u001b[0;34m\u001b[0m\u001b[0m\n\u001b[0;32m----> 5\u001b[0;31m         \u001b[0mstate\u001b[0m\u001b[0;34m,\u001b[0m \u001b[0mmetrics\u001b[0m \u001b[0;34m=\u001b[0m \u001b[0mtrain_step\u001b[0m\u001b[0;34m(\u001b[0m\u001b[0mstate\u001b[0m\u001b[0;34m,\u001b[0m \u001b[0mimgs\u001b[0m\u001b[0;34m,\u001b[0m \u001b[0mlabels\u001b[0m\u001b[0;34m)\u001b[0m\u001b[0;34m\u001b[0m\u001b[0;34m\u001b[0m\u001b[0m\n\u001b[0m\u001b[1;32m      6\u001b[0m         \u001b[0mbatch_metrics\u001b[0m\u001b[0;34m.\u001b[0m\u001b[0mappend\u001b[0m\u001b[0;34m(\u001b[0m\u001b[0mmetrics\u001b[0m\u001b[0;34m)\u001b[0m\u001b[0;34m\u001b[0m\u001b[0;34m\u001b[0m\u001b[0m\n\u001b[1;32m      7\u001b[0m \u001b[0;34m\u001b[0m\u001b[0m\n",
            "    \u001b[0;31m[... skipping hidden 12 frame]\u001b[0m\n",
            "\u001b[0;32m<ipython-input-35-014c12b18031>\u001b[0m in \u001b[0;36mtrain_step\u001b[0;34m(state, imgs, gt_labels)\u001b[0m\n\u001b[1;32m      7\u001b[0m         \u001b[0;32mreturn\u001b[0m \u001b[0mloss\u001b[0m\u001b[0;34m,\u001b[0m \u001b[0mlogits\u001b[0m\u001b[0;34m\u001b[0m\u001b[0;34m\u001b[0m\u001b[0m\n\u001b[1;32m      8\u001b[0m \u001b[0;34m\u001b[0m\u001b[0m\n\u001b[0;32m----> 9\u001b[0;31m     \u001b[0;34m(\u001b[0m\u001b[0m_\u001b[0m\u001b[0;34m,\u001b[0m \u001b[0mlogits\u001b[0m\u001b[0;34m)\u001b[0m\u001b[0;34m,\u001b[0m \u001b[0mgrads\u001b[0m \u001b[0;34m=\u001b[0m \u001b[0mjax\u001b[0m\u001b[0;34m.\u001b[0m\u001b[0mvalue_and_grad\u001b[0m\u001b[0;34m(\u001b[0m\u001b[0mloss_fn\u001b[0m\u001b[0;34m,\u001b[0m \u001b[0mhas_aux\u001b[0m\u001b[0;34m=\u001b[0m\u001b[0;32mTrue\u001b[0m\u001b[0;34m)\u001b[0m\u001b[0;34m(\u001b[0m\u001b[0mstate\u001b[0m\u001b[0;34m.\u001b[0m\u001b[0mparams\u001b[0m\u001b[0;34m)\u001b[0m\u001b[0;34m\u001b[0m\u001b[0;34m\u001b[0m\u001b[0m\n\u001b[0m\u001b[1;32m     10\u001b[0m     \u001b[0mstate\u001b[0m \u001b[0;34m=\u001b[0m \u001b[0mstate\u001b[0m\u001b[0;34m.\u001b[0m\u001b[0mapply_gradients\u001b[0m\u001b[0;34m(\u001b[0m\u001b[0mgrads\u001b[0m\u001b[0;34m=\u001b[0m\u001b[0mgrads\u001b[0m\u001b[0;34m)\u001b[0m  \u001b[0;31m# this is the whole update now! concise!\u001b[0m\u001b[0;34m\u001b[0m\u001b[0;34m\u001b[0m\u001b[0m\n\u001b[1;32m     11\u001b[0m     \u001b[0mmetrics\u001b[0m \u001b[0;34m=\u001b[0m \u001b[0mcompute_metrics\u001b[0m\u001b[0;34m(\u001b[0m\u001b[0mlogits\u001b[0m\u001b[0;34m=\u001b[0m\u001b[0mlogits\u001b[0m\u001b[0;34m,\u001b[0m \u001b[0mgt_labels\u001b[0m\u001b[0;34m=\u001b[0m\u001b[0mgt_labels\u001b[0m\u001b[0;34m)\u001b[0m  \u001b[0;31m# duplicating loss calculation but it's a bit cleaner\u001b[0m\u001b[0;34m\u001b[0m\u001b[0;34m\u001b[0m\u001b[0m\n",
            "    \u001b[0;31m[... skipping hidden 8 frame]\u001b[0m\n",
            "\u001b[0;32m<ipython-input-35-014c12b18031>\u001b[0m in \u001b[0;36mloss_fn\u001b[0;34m(params)\u001b[0m\n\u001b[1;32m      2\u001b[0m \u001b[0;32mdef\u001b[0m \u001b[0mtrain_step\u001b[0m\u001b[0;34m(\u001b[0m\u001b[0mstate\u001b[0m\u001b[0;34m,\u001b[0m \u001b[0mimgs\u001b[0m\u001b[0;34m,\u001b[0m \u001b[0mgt_labels\u001b[0m\u001b[0;34m)\u001b[0m\u001b[0;34m:\u001b[0m\u001b[0;34m\u001b[0m\u001b[0;34m\u001b[0m\u001b[0m\n\u001b[1;32m      3\u001b[0m     \u001b[0;32mdef\u001b[0m \u001b[0mloss_fn\u001b[0m\u001b[0;34m(\u001b[0m\u001b[0mparams\u001b[0m\u001b[0;34m)\u001b[0m\u001b[0;34m:\u001b[0m\u001b[0;34m\u001b[0m\u001b[0;34m\u001b[0m\u001b[0m\n\u001b[0;32m----> 4\u001b[0;31m         \u001b[0mlogits\u001b[0m \u001b[0;34m=\u001b[0m \u001b[0mUnet\u001b[0m\u001b[0;34m(\u001b[0m\u001b[0;34m)\u001b[0m\u001b[0;34m.\u001b[0m\u001b[0mapply\u001b[0m\u001b[0;34m(\u001b[0m\u001b[0;34m{\u001b[0m\u001b[0;34m'params'\u001b[0m\u001b[0;34m:\u001b[0m \u001b[0mparams\u001b[0m\u001b[0;34m}\u001b[0m\u001b[0;34m,\u001b[0m \u001b[0mimgs\u001b[0m\u001b[0;34m)\u001b[0m\u001b[0;34m\u001b[0m\u001b[0;34m\u001b[0m\u001b[0m\n\u001b[0m\u001b[1;32m      5\u001b[0m         \u001b[0mone_hot_gt_labels\u001b[0m \u001b[0;34m=\u001b[0m \u001b[0mjax\u001b[0m\u001b[0;34m.\u001b[0m\u001b[0mnn\u001b[0m\u001b[0;34m.\u001b[0m\u001b[0mone_hot\u001b[0m\u001b[0;34m(\u001b[0m\u001b[0mgt_labels\u001b[0m\u001b[0;34m,\u001b[0m \u001b[0mnum_classes\u001b[0m\u001b[0;34m=\u001b[0m\u001b[0;36m10\u001b[0m\u001b[0;34m)\u001b[0m\u001b[0;34m\u001b[0m\u001b[0;34m\u001b[0m\u001b[0m\n\u001b[1;32m      6\u001b[0m         \u001b[0mloss\u001b[0m \u001b[0;34m=\u001b[0m \u001b[0;34m-\u001b[0m\u001b[0mjnp\u001b[0m\u001b[0;34m.\u001b[0m\u001b[0mmean\u001b[0m\u001b[0;34m(\u001b[0m\u001b[0mjnp\u001b[0m\u001b[0;34m.\u001b[0m\u001b[0msum\u001b[0m\u001b[0;34m(\u001b[0m\u001b[0mone_hot_gt_labels\u001b[0m \u001b[0;34m*\u001b[0m \u001b[0mlogits\u001b[0m\u001b[0;34m,\u001b[0m \u001b[0maxis\u001b[0m\u001b[0;34m=\u001b[0m\u001b[0;34m-\u001b[0m\u001b[0;36m1\u001b[0m\u001b[0;34m)\u001b[0m\u001b[0;34m)\u001b[0m\u001b[0;34m\u001b[0m\u001b[0;34m\u001b[0m\u001b[0m\n",
            "    \u001b[0;31m[... skipping hidden 6 frame]\u001b[0m\n",
            "\u001b[0;32m<ipython-input-26-9bca41e1a9e8>\u001b[0m in \u001b[0;36m__call__\u001b[0;34m(self, x)\u001b[0m\n\u001b[1;32m     61\u001b[0m \u001b[0;34m\u001b[0m\u001b[0m\n\u001b[1;32m     62\u001b[0m   \u001b[0;31m# Contracting path\u001b[0m\u001b[0;34m\u001b[0m\u001b[0;34m\u001b[0m\u001b[0m\n\u001b[0;32m---> 63\u001b[0;31m     \u001b[0mx\u001b[0m \u001b[0;34m=\u001b[0m \u001b[0mDoubleConvBR\u001b[0m\u001b[0;34m(\u001b[0m\u001b[0;36m64\u001b[0m\u001b[0;34m)\u001b[0m\u001b[0;34m(\u001b[0m\u001b[0mx\u001b[0m\u001b[0;34m)\u001b[0m\u001b[0;34m\u001b[0m\u001b[0;34m\u001b[0m\u001b[0m\n\u001b[0m\u001b[1;32m     64\u001b[0m     \u001b[0mx\u001b[0m \u001b[0;34m=\u001b[0m \u001b[0mDown\u001b[0m\u001b[0;34m(\u001b[0m\u001b[0;36m128\u001b[0m\u001b[0;34m)\u001b[0m\u001b[0;34m(\u001b[0m\u001b[0mx\u001b[0m\u001b[0;34m)\u001b[0m\u001b[0;34m\u001b[0m\u001b[0;34m\u001b[0m\u001b[0m\n\u001b[1;32m     65\u001b[0m     \u001b[0mx\u001b[0m \u001b[0;34m=\u001b[0m \u001b[0mDown\u001b[0m\u001b[0;34m(\u001b[0m\u001b[0;36m256\u001b[0m\u001b[0;34m)\u001b[0m\u001b[0;34m(\u001b[0m\u001b[0mx\u001b[0m\u001b[0;34m)\u001b[0m\u001b[0;34m\u001b[0m\u001b[0;34m\u001b[0m\u001b[0m\n",
            "    \u001b[0;31m[... skipping hidden 2 frame]\u001b[0m\n",
            "\u001b[0;32m<ipython-input-26-9bca41e1a9e8>\u001b[0m in \u001b[0;36m__call__\u001b[0;34m(self, x)\u001b[0m\n\u001b[1;32m     16\u001b[0m   \u001b[0;32mdef\u001b[0m \u001b[0m__call__\u001b[0m\u001b[0;34m(\u001b[0m\u001b[0mself\u001b[0m\u001b[0;34m,\u001b[0m \u001b[0mx\u001b[0m\u001b[0;34m)\u001b[0m\u001b[0;34m:\u001b[0m\u001b[0;34m\u001b[0m\u001b[0;34m\u001b[0m\u001b[0m\n\u001b[1;32m     17\u001b[0m     \u001b[0mx\u001b[0m \u001b[0;34m=\u001b[0m \u001b[0mnn\u001b[0m\u001b[0;34m.\u001b[0m\u001b[0mConv\u001b[0m\u001b[0;34m(\u001b[0m\u001b[0mfeatures\u001b[0m\u001b[0;34m=\u001b[0m\u001b[0mself\u001b[0m\u001b[0;34m.\u001b[0m\u001b[0mout_dim\u001b[0m\u001b[0;34m,\u001b[0m \u001b[0mkernel_size\u001b[0m\u001b[0;34m=\u001b[0m\u001b[0mself\u001b[0m\u001b[0;34m.\u001b[0m\u001b[0mkernel_size\u001b[0m\u001b[0;34m,\u001b[0m \u001b[0mstrides\u001b[0m\u001b[0;34m=\u001b[0m\u001b[0mself\u001b[0m\u001b[0;34m.\u001b[0m\u001b[0mstrides\u001b[0m\u001b[0;34m,\u001b[0m \u001b[0mpadding\u001b[0m\u001b[0;34m=\u001b[0m\u001b[0mself\u001b[0m\u001b[0;34m.\u001b[0m\u001b[0mpadding\u001b[0m\u001b[0;34m)\u001b[0m\u001b[0;34m(\u001b[0m\u001b[0mx\u001b[0m\u001b[0;34m)\u001b[0m\u001b[0;34m\u001b[0m\u001b[0;34m\u001b[0m\u001b[0m\n\u001b[0;32m---> 18\u001b[0;31m     \u001b[0mx\u001b[0m \u001b[0;34m=\u001b[0m \u001b[0mnn\u001b[0m\u001b[0;34m.\u001b[0m\u001b[0mBatchNorm\u001b[0m\u001b[0;34m(\u001b[0m\u001b[0muse_running_average\u001b[0m\u001b[0;34m=\u001b[0m\u001b[0mself\u001b[0m\u001b[0;34m.\u001b[0m\u001b[0muse_running_average\u001b[0m\u001b[0;34m,\u001b[0m \u001b[0mmomentum\u001b[0m\u001b[0;34m=\u001b[0m\u001b[0mself\u001b[0m\u001b[0;34m.\u001b[0m\u001b[0mmomentum\u001b[0m\u001b[0;34m,\u001b[0m \u001b[0mepsilon\u001b[0m \u001b[0;34m=\u001b[0m \u001b[0mself\u001b[0m\u001b[0;34m.\u001b[0m\u001b[0mepsilon\u001b[0m\u001b[0;34m,\u001b[0m \u001b[0mdtype\u001b[0m \u001b[0;34m=\u001b[0m \u001b[0mself\u001b[0m\u001b[0;34m.\u001b[0m\u001b[0mdtype\u001b[0m\u001b[0;34m)\u001b[0m\u001b[0;34m(\u001b[0m\u001b[0mx\u001b[0m\u001b[0;34m)\u001b[0m\u001b[0;34m\u001b[0m\u001b[0;34m\u001b[0m\u001b[0m\n\u001b[0m\u001b[1;32m     19\u001b[0m     \u001b[0mx\u001b[0m \u001b[0;34m=\u001b[0m \u001b[0mnn\u001b[0m\u001b[0;34m.\u001b[0m\u001b[0mrelu\u001b[0m\u001b[0;34m(\u001b[0m\u001b[0mx\u001b[0m\u001b[0;34m)\u001b[0m\u001b[0;34m\u001b[0m\u001b[0;34m\u001b[0m\u001b[0m\n\u001b[1;32m     20\u001b[0m     \u001b[0mx\u001b[0m \u001b[0;34m=\u001b[0m \u001b[0mnn\u001b[0m\u001b[0;34m.\u001b[0m\u001b[0mConv\u001b[0m\u001b[0;34m(\u001b[0m\u001b[0mfeatures\u001b[0m\u001b[0;34m=\u001b[0m\u001b[0mself\u001b[0m\u001b[0;34m.\u001b[0m\u001b[0mout_dim\u001b[0m\u001b[0;34m,\u001b[0m \u001b[0mkernel_size\u001b[0m\u001b[0;34m=\u001b[0m\u001b[0mself\u001b[0m\u001b[0;34m.\u001b[0m\u001b[0mkernel_size\u001b[0m\u001b[0;34m,\u001b[0m \u001b[0mstrides\u001b[0m\u001b[0;34m=\u001b[0m\u001b[0mself\u001b[0m\u001b[0;34m.\u001b[0m\u001b[0mstrides\u001b[0m\u001b[0;34m,\u001b[0m \u001b[0mpadding\u001b[0m\u001b[0;34m=\u001b[0m\u001b[0mself\u001b[0m\u001b[0;34m.\u001b[0m\u001b[0mpadding\u001b[0m\u001b[0;34m)\u001b[0m\u001b[0;34m(\u001b[0m\u001b[0mx\u001b[0m\u001b[0;34m)\u001b[0m\u001b[0;34m\u001b[0m\u001b[0;34m\u001b[0m\u001b[0m\n",
            "    \u001b[0;31m[... skipping hidden 2 frame]\u001b[0m\n",
            "\u001b[0;32m/usr/local/lib/python3.9/dist-packages/flax/linen/normalization.py\u001b[0m in \u001b[0;36m__call__\u001b[0;34m(self, x, use_running_average)\u001b[0m\n\u001b[1;32m    254\u001b[0m     \u001b[0mfeature_shape\u001b[0m \u001b[0;34m=\u001b[0m \u001b[0;34m[\u001b[0m\u001b[0mx\u001b[0m\u001b[0;34m.\u001b[0m\u001b[0mshape\u001b[0m\u001b[0;34m[\u001b[0m\u001b[0max\u001b[0m\u001b[0;34m]\u001b[0m \u001b[0;32mfor\u001b[0m \u001b[0max\u001b[0m \u001b[0;32min\u001b[0m \u001b[0mfeature_axes\u001b[0m\u001b[0;34m]\u001b[0m\u001b[0;34m\u001b[0m\u001b[0;34m\u001b[0m\u001b[0m\n\u001b[1;32m    255\u001b[0m \u001b[0;34m\u001b[0m\u001b[0m\n\u001b[0;32m--> 256\u001b[0;31m     ra_mean = self.variable('batch_stats', 'mean',\n\u001b[0m\u001b[1;32m    257\u001b[0m                             \u001b[0;32mlambda\u001b[0m \u001b[0ms\u001b[0m\u001b[0;34m:\u001b[0m \u001b[0mjnp\u001b[0m\u001b[0;34m.\u001b[0m\u001b[0mzeros\u001b[0m\u001b[0;34m(\u001b[0m\u001b[0ms\u001b[0m\u001b[0;34m,\u001b[0m \u001b[0mjnp\u001b[0m\u001b[0;34m.\u001b[0m\u001b[0mfloat32\u001b[0m\u001b[0;34m)\u001b[0m\u001b[0;34m,\u001b[0m\u001b[0;34m\u001b[0m\u001b[0;34m\u001b[0m\u001b[0m\n\u001b[1;32m    258\u001b[0m                             feature_shape)\n",
            "    \u001b[0;31m[... skipping hidden 1 frame]\u001b[0m\n",
            "\u001b[0;32m/usr/local/lib/python3.9/dist-packages/flax/core/scope.py\u001b[0m in \u001b[0;36mvariable\u001b[0;34m(self, col, name, init_fn, unbox, *init_args)\u001b[0m\n\u001b[1;32m    792\u001b[0m       \u001b[0;32mif\u001b[0m \u001b[0;32mnot\u001b[0m \u001b[0mself\u001b[0m\u001b[0;34m.\u001b[0m\u001b[0mis_mutable_collection\u001b[0m\u001b[0;34m(\u001b[0m\u001b[0mcol\u001b[0m\u001b[0;34m)\u001b[0m \u001b[0;32mor\u001b[0m \u001b[0minit_fn\u001b[0m \u001b[0;32mis\u001b[0m \u001b[0;32mNone\u001b[0m\u001b[0;34m:\u001b[0m\u001b[0;34m\u001b[0m\u001b[0;34m\u001b[0m\u001b[0m\n\u001b[1;32m    793\u001b[0m         \u001b[0;32mif\u001b[0m \u001b[0mself\u001b[0m\u001b[0;34m.\u001b[0m\u001b[0mis_collection_empty\u001b[0m\u001b[0;34m(\u001b[0m\u001b[0mcol\u001b[0m\u001b[0;34m)\u001b[0m\u001b[0;34m:\u001b[0m\u001b[0;34m\u001b[0m\u001b[0;34m\u001b[0m\u001b[0m\n\u001b[0;32m--> 794\u001b[0;31m           \u001b[0;32mraise\u001b[0m \u001b[0merrors\u001b[0m\u001b[0;34m.\u001b[0m\u001b[0mScopeCollectionNotFound\u001b[0m\u001b[0;34m(\u001b[0m\u001b[0mcol\u001b[0m\u001b[0;34m,\u001b[0m \u001b[0mname\u001b[0m\u001b[0;34m,\u001b[0m \u001b[0mself\u001b[0m\u001b[0;34m.\u001b[0m\u001b[0mpath_text\u001b[0m\u001b[0;34m)\u001b[0m\u001b[0;34m\u001b[0m\u001b[0;34m\u001b[0m\u001b[0m\n\u001b[0m\u001b[1;32m    795\u001b[0m         \u001b[0;32mraise\u001b[0m \u001b[0merrors\u001b[0m\u001b[0;34m.\u001b[0m\u001b[0mScopeVariableNotFoundError\u001b[0m\u001b[0;34m(\u001b[0m\u001b[0mname\u001b[0m\u001b[0;34m,\u001b[0m \u001b[0mcol\u001b[0m\u001b[0;34m,\u001b[0m \u001b[0mself\u001b[0m\u001b[0;34m.\u001b[0m\u001b[0mpath_text\u001b[0m\u001b[0;34m)\u001b[0m\u001b[0;34m\u001b[0m\u001b[0;34m\u001b[0m\u001b[0m\n\u001b[1;32m    796\u001b[0m       \u001b[0minit_value\u001b[0m \u001b[0;34m=\u001b[0m \u001b[0minit_fn\u001b[0m\u001b[0;34m(\u001b[0m\u001b[0;34m*\u001b[0m\u001b[0minit_args\u001b[0m\u001b[0;34m)\u001b[0m\u001b[0;34m\u001b[0m\u001b[0;34m\u001b[0m\u001b[0m\n",
            "\u001b[0;31mScopeCollectionNotFound\u001b[0m: Tried to access \"mean\" from collection \"batch_stats\" in \"/DoubleConvBR_0/BatchNorm_0\" but the collection is empty. (https://flax.readthedocs.io/en/latest/api_reference/flax.errors.html#flax.errors.ScopeCollectionNotFound)"
          ]
        }
      ]
    },
    {
      "cell_type": "code",
      "source": [],
      "metadata": {
        "id": "WegqjG5bkezD"
      },
      "execution_count": null,
      "outputs": []
    }
  ]
}