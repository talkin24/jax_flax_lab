{
  "nbformat": 4,
  "nbformat_minor": 0,
  "metadata": {
    "colab": {
      "provenance": [],
      "authorship_tag": "ABX9TyMZoGC4csPOVtKtEMDD5X/F",
      "include_colab_link": true
    },
    "kernelspec": {
      "name": "python3",
      "display_name": "Python 3"
    },
    "language_info": {
      "name": "python"
    }
  },
  "cells": [
    {
      "cell_type": "markdown",
      "metadata": {
        "id": "view-in-github",
        "colab_type": "text"
      },
      "source": [
        "<a href=\"https://colab.research.google.com/github/talkin24/jaxflax_lab/blob/main/Glossary.ipynb\" target=\"_parent\"><img src=\"https://colab.research.google.com/assets/colab-badge.svg\" alt=\"Open In Colab\"/></a>"
      ]
    },
    {
      "cell_type": "markdown",
      "source": [
        "### Bound Module\n",
        "\n",
        "`Module`이 일반적인 파이썬 객체 구성(예: module = SomeModule(args...))을 통해 생성되면 바인딩되지 않은 상태가 됩니다. 즉, 데이터클래스 어트리뷰트만 설정되고 모듈에 바인딩된 변수는 없습니다. 순수 함수 `Module.init()` 또는 `Module.apply()`가 호출되면 Flax는 모듈을 복제하고 변수를 바인딩하며, 모듈의 메서드 코드는 로컬 바인딩된 상태로 실행되므로 변수를 제공하지 않고도 하위 모듈을 직접 호출하는 등의 작업을 수행할 수 있습니다. 자세한 내용은 모듈 라이프사이클을 참조하세요.\n",
        "\n",
        "-\n",
        "\n",
        "### Compact / Non-compact Module\n",
        "\n",
        "단일 메서드가 있는 모듈은 `@nn.compact` 데코레이터를 사용하여 서브모듈과 변수를 인라인으로 선언할 수 있습니다. 이를 \"compact-style modules\"이라고 하며, `setup()` 메서드를 정의하는 모듈(일반적으로 여러 호출 가능한 메서드가 있는 경우가 많지만 항상 그런 것은 아님)을 \"setup-style modules\"이라고 합니다. \n",
        "\n",
        "-\n",
        "\n",
        "### Folding in\n",
        "\n",
        "입력 PRNG 키와 정수가 주어지면 새 PRNG 키를 생성합니다. 일반적으로 새 키를 생성하되 나중에 원래의 rng 키를 계속 사용할 수 있을 때 사용합니다. jax.random.split을 사용하여 이 작업을 수행할 수도 있지만 이 경우 사실상 두 개의 RNG 키를 생성하므로 속도가 느립니다.\n",
        "\n",
        "-\n",
        "### FrozenDict\n",
        "\n",
        "일반 변경 가능한 딕셔너리로 \"`unfrozen`\"할 수 있는 불변 딕셔너리입니다. 내부적으로 Flax는 가변 딕셔너리가 실수로 변경되지 않도록 하기 위해 FrozenDicts를 사용합니다. 참고: 저희는 API에서 일반 딕셔너리로 되돌아가고 내부적으로만 FrozenDicts를 사용하는 것을 고려하고 있습니다. \n",
        "\n",
        "-\n",
        "### Functional core\n",
        "아마 코어 라이브러리는 모델을 통해 변수와 PRNG를 스레딩하기 위한 간단한 컨테이너 Scope API와 Scope 객체를 전달하는 함수를 변환하는 데 필요한 리프팅 메커니즘을 구현합니다. 파이썬 클래스 기반 모듈 API는 이 코어 라이브러리 위에 구축됩니다.\n",
        "\n",
        "-\n",
        "### Lazy initialization\n",
        "Flax의 변수는 필요할 때만 늦게 초기화됩니다. 즉, 모듈을 정상적으로 실행하는 동안 요청된 변수 이름이 제공된 변수 수집 데이터에서 발견되지 않으면 이니셜라이저 함수를 호출하여 생성합니다. 이렇게 하면 초기화와 애플리케이션을 동일한 코드 경로에서 처리할 수 있으므로 레이어가 있는 JAX 트랜스폼의 사용이 간소화됩니다.\n",
        "\n",
        "-\n",
        "### Lifted transformation\n",
        "Flax 문서를 참조하세요.\n",
        "\n",
        "-\n",
        "### Module\n",
        "\n",
        "참조 투명 형식으로 매개변수를 정의하고 초기화할 수 있는 데이터 클래스입니다. 모듈은 자체적으로 변수와 매개변수를 저장하고 업데이트하는 역할을 담당합니다. 모듈은 함수로 쉽게 변환할 수 있으므로 vmap 및 scan과 같은 JAX 변환과 함께 간단하게 사용할 수 있습니다.\n",
        "\n",
        "\n",
        "-\n",
        "### Params/parameters\n",
        "\"params\"는 변수 사전(딕셔너리)의 표준 변수 컬렉션입니다. \"params\" 컬렉션에는 일반적으로 훈련 가능한 가중치가 포함됩니다.\n",
        "\n",
        "\n",
        "-\n",
        "### RNG sequences\n",
        "Flax `Module` 내부에서 `Module.make_rng()`를 통해 새로운 `PRNG` 키를 얻을 수 있습니다. 이 키는 `JAX's functional random number generators`를 통해 난수를 생성하는 데 사용할 수 있습니다. 서로 다른 RNG 시퀀스(예: \"params\"와 \"dropout\"에 대해)를 사용하면 다중 호스트 설정에서 세분화된 제어(예: 서로 다른 호스트에서 매개변수를 동일하게 초기화하지만 드롭아웃 마스크가 다른 경우)가 가능하며 변환을 해제할 때 이러한 시퀀스를 다르게 처리할 수 있습니다.\n",
        "\n",
        "\n",
        "-\n",
        "### Scope\n",
        "각 레이어에 대한 변수와 PRNG 키를 보관하는 컨테이너 클래스입니다.\n",
        "\n",
        "-\n",
        "### Shape inference\n",
        "모듈은 정의에서 입력 배열의 모양을 지정할 필요가 없습니다. 초기화 시 Flax는 입력 배열을 검사하고 모델의 파라미터에 대해 올바른 모양을 추론합니다.\n",
        "\n",
        "-\n",
        "### TrainState\n",
        "`flax.training.train_state.TrainState`를 참조하세요.\n",
        "\n",
        "-\n",
        "### Variable\n",
        "변수 컬렉션의 leaves에 존재하는 `weights/parameters/data/arrays`입니다. 변수는 `Module.variable()`을 사용하여 모듈 내부에서 정의됩니다. 컬렉션 \"params\"의 변수는 간단히 param라고 하며 `Module.param()`을 사용하여 설정할 수 있습니다.\n",
        "\n",
        "-\n",
        "### Variable collections\n",
        "모델에서 사용하는 weights/parameters/data/arrays을 포함하는 변수 딕셔너리의 항목입니다. \"params\"는 변수 딕셔너리의 표준 컬렉션입니다. 일반적으로 포워드 패스 코드로 직접 수정하지 않고 외부 SGD와 유사한 루프/옵티마이저에 의해 업데이트되는 차별화 가능한 컬렉션입니다.\n",
        "\n",
        "-\n",
        "### Variable dictionary\n",
        "변수 컬렉션을 포함하는 딕셔너리입니다. 각 변수 컬렉션은 문자열 이름(예: \"params\" 또는 \"batch_stats\")에서 서브모듈 트리 구조와 일치하는 변수를 잎으로 하는 (중첩된) 사전으로 매핑됩니다. "
      ],
      "metadata": {
        "id": "7M9ovfpxSpmw"
      }
    },
    {
      "cell_type": "code",
      "source": [],
      "metadata": {
        "id": "jbvvb1mfTtDO"
      },
      "execution_count": null,
      "outputs": []
    }
  ]
}