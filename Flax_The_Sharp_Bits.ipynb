{
  "nbformat": 4,
  "nbformat_minor": 0,
  "metadata": {
    "colab": {
      "provenance": [],
      "authorship_tag": "ABX9TyOh5r2bVgHtU72k1LtztoNt",
      "include_colab_link": true
    },
    "kernelspec": {
      "name": "python3",
      "display_name": "Python 3"
    },
    "language_info": {
      "name": "python"
    }
  },
  "cells": [
    {
      "cell_type": "markdown",
      "metadata": {
        "id": "view-in-github",
        "colab_type": "text"
      },
      "source": [
        "<a href=\"https://colab.research.google.com/github/talkin24/jaxflax_lab/blob/main/Flax_The_Sharp_Bits.ipynb\" target=\"_parent\"><img src=\"https://colab.research.google.com/assets/colab-badge.svg\" alt=\"Open In Colab\"/></a>"
      ]
    },
    {
      "cell_type": "markdown",
      "source": [
        "Flax는 JAX의 모든 기능을 제공합니다. 그리고 JAX를 사용할 때와 마찬가지로 Flax로 작업할 때 경험할 수 있는 특정 \"날카로운 부분\"이 있습니다.\n",
        "\n",
        "먼저 Flax를 설치 및/또는 업데이트합니다:"
      ],
      "metadata": {
        "id": "Oc13Hog_M326"
      }
    },
    {
      "cell_type": "code",
      "source": [
        "! pip install -qq flax"
      ],
      "metadata": {
        "id": "CtK51UMeOtaR"
      },
      "execution_count": 1,
      "outputs": []
    },
    {
      "cell_type": "markdown",
      "source": [
        "## `flax.linen.Dropout` layer and randomness\n",
        "\n",
        "### TL;DR?\n",
        "\n",
        "드롭아웃이 있는 모델(`Flax Module`에서 서브클래싱된)에서 작업할 때는 포워드 패스 중에만 `'dropout'` PRNG키를 추가하세요.\n",
        "\n",
        "1. `jax.random.split()`으로 시작하여 `'params'` 및 `'dropout'`에 대한 PRNG 키를 명시적으로 생성합니다.\n",
        "\n",
        "2. 모델에 `flax.linen.Dropout` 레이어를 추가합니다(Flax `Module`에서 서브클래스화).\n",
        "\n",
        "3. 모델을 초기화할 때(`flax.linen.init()`), \"단순한\" 모델에서처럼 `'params'` 키만 전달하면 되므로 추가 `'dropout'` PRNG 키를 전달할 필요가 없습니다.\n",
        "\n",
        "4. `flax.linen.apply()`를 사용하여 포워드 패스를 전달하는 동안 `rngs={'dropout': dropout_key}`를 전달합니다.\n",
        "\n",
        "아래에서 전체 예제를 확인하세요."
      ],
      "metadata": {
        "id": "-B6tfmM2OujX"
      }
    },
    {
      "cell_type": "markdown",
      "source": [
        "### Why this works\n",
        "\n",
        "- 내부적으로 `flax.linen.Dropout`은 `flax.linen.Module.make_rng`를 사용하여 드롭아웃용 키를 생성합니다.\n",
        "\n",
        "- `make_rng`가 호출될 때마다(이 경우 `Dropout`에서 암시적으로 수행됨) 메인/루트 PRNG 키에서 분할된 새 PRNG 키가 생성됩니다.\n",
        "\n",
        "- `make_rng`는 여전히 완전한 재현성을 보장합니다."
      ],
      "metadata": {
        "id": "ZzO0OPafO0kK"
      }
    },
    {
      "cell_type": "markdown",
      "source": [
        "### Background\n",
        "\n",
        "드롭아웃 확률 정규화 기법은 네트워크에서 숨겨진 단위와 보이는 단위를 무작위로 제거합니다. 드롭아웃은 무작위 연산이므로 PRNG 상태가 필요하며, Flax(JAX와 마찬가지로)는 분할 가능한 Threefry PRNG를 사용합니다."
      ],
      "metadata": {
        "id": "iQLhOBJkQF3H"
      }
    },
    {
      "cell_type": "markdown",
      "source": [
        "\n",
        "\n",
        "*참고: JAX에는 PRNG 키를 제공하는 명시적인 방법이 있다는 것을 기억하세요. \n",
        "주요 PRNG 상태(예: key = `jax.random.PRNGKey(seed=0))`를 `key, subkey = jax.random.split(key)`를 사용하여 여러 개의 새 PRNG 키로 포크할 수 있습니다.*\n"
      ],
      "metadata": {
        "id": "NgFsx69GQUj2"
      }
    },
    {
      "cell_type": "markdown",
      "source": [
        "Flax는 Flax `Module`의 `flax.linen.Module.make_rng` 헬퍼 함수를 통해 PRNG 키 스트림을 처리하는 암시적인 방법을 제공합니다. 이 함수를 사용하면 Flax `Module`(또는 그 하위 `Module`)의 코드가 \"PRNG 키를 가져올 수 있습니다.\" `make_rng`는 호출할 때마다 고유한 키를 제공하도록 보장합니다."
      ],
      "metadata": {
        "id": "GzOzQp54Q09f"
      }
    },
    {
      "cell_type": "markdown",
      "source": [
        "### Example\n",
        "\n",
        "각 Flax PRNG 스트림에는 이름이 있다는 것을 기억하세요. 아래 예시에서는 매개변수를 초기화하기 위해 `'params'` 스트림과 `'dropout'` 스트림을 사용합니다. `flax.linen.init()`에 제공된 PRNG 키는 `'params'` PRNG 키 스트림을 시드하는 키입니다. 포워드 패스(드롭아웃 포함) 중에 PRNG 키를 가져오려면 `Module.apply()`를 호출할 때 해당 스트림(`'dropout'`)을 시딩할 PRNG 키를 제공하세요."
      ],
      "metadata": {
        "id": "9yn_XjmSRKAq"
      }
    },
    {
      "cell_type": "code",
      "source": [
        "# Setup.\n",
        "import jax\n",
        "import jax.numpy as jnp\n",
        "import flax.linen as nn\n"
      ],
      "metadata": {
        "id": "V56PEuZtRfiq"
      },
      "execution_count": 2,
      "outputs": []
    },
    {
      "cell_type": "code",
      "source": [
        "# Randomness.\n",
        "seed = 0\n",
        "root_key = jax.random.PRNGKey(seed=seed)\n",
        "main_key, params_key, dropout_key = jax.random.split(key=root_key, num=3)\n",
        "\n",
        "# A simple network.\n",
        "class MyModel(nn.Module):\n",
        "  num_neurons: int\n",
        "  training: bool\n",
        "  @nn.compact\n",
        "  def __call__(self, x):\n",
        "    x = nn.Dense(self.num_neurons)(x)\n",
        "    # Set the dropout layer with a rate of 50% .\n",
        "    # When the `deterministic` flag is `True`, dropout is turned off.\n",
        "    x = nn.Dropout(rate=0.5, deterministic=not self.training)(x)\n",
        "    return x\n",
        "\n",
        "# Instantiate `MyModel` (you don't need to set `training=True` to\n",
        "# avoid performing the forward pass computation).\n",
        "my_model = MyModel(num_neurons=3, training=False)\n",
        "\n",
        "x = jax.random.uniform(key=main_key, shape=(3, 4, 4))\n",
        "\n",
        "# Initialize with `flax.linen.init()`.\n",
        "# The `params_key` is equivalent to a dictionary of PRNGs.\n",
        "# (Here, you are providing only one PRNG key.) \n",
        "variables = my_model.init(params_key, x)\n",
        "\n",
        "# Perform the forward pass with `flax.linen.apply()`.\n",
        "y = my_model.apply(variables, x, rngs={'dropout': dropout_key})"
      ],
      "metadata": {
        "colab": {
          "base_uri": "https://localhost:8080/"
        },
        "id": "WCN06X-HRhIs",
        "outputId": "8dd39fc2-464b-4f8d-c424-33b95a54e8d6"
      },
      "execution_count": 3,
      "outputs": [
        {
          "output_type": "stream",
          "name": "stderr",
          "text": [
            "WARNING:jax._src.xla_bridge:No GPU/TPU found, falling back to CPU. (Set TF_CPP_MIN_LOG_LEVEL=0 and rerun for more info.)\n"
          ]
        }
      ]
    },
    {
      "cell_type": "code",
      "source": [],
      "metadata": {
        "id": "t06SWoS_RijV"
      },
      "execution_count": null,
      "outputs": []
    }
  ]
}